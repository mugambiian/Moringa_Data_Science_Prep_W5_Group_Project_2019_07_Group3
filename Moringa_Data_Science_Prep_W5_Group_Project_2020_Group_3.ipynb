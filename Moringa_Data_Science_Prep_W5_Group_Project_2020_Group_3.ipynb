{
  "nbformat": 4,
  "nbformat_minor": 0,
  "metadata": {
    "colab": {
      "name": "Moringa_Data_Science_Prep_W5_Group_Project_2020_Group_3.ipynb",
      "provenance": [],
      "collapsed_sections": [
        "b_MPrV3FDpeQ",
        "RIOFmzphD0zi",
        "Q9RPjReuD8Dj",
        "Gz9Es0DWEAK3",
        "i4wNsOLaEDw6",
        "ZRYAvSjbELmn",
        "nTYANMacEXJn",
        "nGMZKQF_ElEW",
        "zhMoZ_FAEokP",
        "zuylUD_iExpk",
        "twBr_1xyE6aB",
        "_P2RCPFqFOnO",
        "yFFiI8UEFabw",
        "qQR_JD-AFlYG",
        "XC4y5G6xFwbE"
      ]
    },
    "kernelspec": {
      "name": "python3",
      "display_name": "Python 3"
    }
  },
  "cells": [
    {
      "cell_type": "markdown",
      "metadata": {
        "id": "pN-ymmxKmyGH",
        "colab_type": "text"
      },
      "source": [
        "# Moringa Data Science Prep Project: Week 5"
      ]
    },
    {
      "cell_type": "markdown",
      "metadata": {
        "id": "8c4me2dan-zj",
        "colab_type": "text"
      },
      "source": [
        "**Task:** As a team of Mckinsey Consultants we are going to be working with the World Food Organisation (WFP) this week. \n",
        "We will be helping WFP identify, define, and solve major problems in the Kenyan Agricultural sector. The team will specifically be looking at horticultural products meant for export. \n",
        "\n",
        "**RESEARCH QUESTIONS**\n",
        "\n",
        "Which type of commodity had the most value : i.) Monthly\n",
        "    ii.) Overall\n",
        "\n",
        "Which type of commodity had the least value : i.) Monthly\n",
        "    ii.) Overall\n",
        "\n",
        "Which type of cut-flowers had the most value :  i.) Monthly\n",
        "     ii.) Overall\n",
        "\n",
        "Which type of Vegetables had the most value : i.) Monthly\n",
        "     ii.) Overall\n",
        "\n",
        "Which type of Fruits had the most value : i.) Monthly\n",
        "      \t\t\t\t\t       ii.) Overall\n",
        "\n",
        "Which commodity had the highest value per kg? i.)Monthly\n",
        "       ii.) Overall\n",
        "\n",
        "Which month had the highest value of goods exported?\n",
        "\n",
        "Which month had the lowest value of goods exported?\n",
        "\n",
        "Which commodity did not sell at all?\n",
        "\n",
        "How did special months affect the value of goods exported for different types of commodities?\n",
        "\n",
        "\n",
        "**Dataset Provided**\n",
        "Monthly Horticultural Exports, Flowers,Fruits and Vegetables between January,2015 to December,2015 - [https://www.opendata.go.ke/datasets/monthly-horticultural-exports-flowersfruits-and-vegetables-between-january2015-to-december2015/data ]"
      ]
    },
    {
      "cell_type": "markdown",
      "metadata": {
        "id": "7MNsp3V6rSLL",
        "colab_type": "text"
      },
      "source": [
        "# Importing our Libraries "
      ]
    },
    {
      "cell_type": "code",
      "metadata": {
        "id": "4_5S1YCvl49t",
        "colab_type": "code",
        "colab": {}
      },
      "source": [
        "#Importing libraries \n",
        "#\n",
        "\n",
        "import pandas as pd\n",
        "import numpy as np\n",
        "import matplotlib.pyplot as plt\n"
      ],
      "execution_count": 0,
      "outputs": []
    },
    {
      "cell_type": "markdown",
      "metadata": {
        "id": "FGlEkN6QroHA",
        "colab_type": "text"
      },
      "source": [
        "# Loading the Dataset"
      ]
    },
    {
      "cell_type": "code",
      "metadata": {
        "id": "5PUVAY0bl5Hc",
        "colab_type": "code",
        "outputId": "930fce28-afc4-457c-9108-1d8301051967",
        "colab": {
          "base_uri": "https://localhost:8080/",
          "height": 589
        }
      },
      "source": [
        "#Loading our dataset and previewing our dataset\n",
        "#\n",
        "url = 'https://opendata.arcgis.com/datasets/81045a2dc4e94be0a74539df523f7f39_0.csv?outSR=4326'\n",
        "dataset_df = pd.read_csv(url)\n",
        "dataset_df"
      ],
      "execution_count": 0,
      "outputs": [
        {
          "output_type": "execute_result",
          "data": {
            "text/html": [
              "<div>\n",
              "<style scoped>\n",
              "    .dataframe tbody tr th:only-of-type {\n",
              "        vertical-align: middle;\n",
              "    }\n",
              "\n",
              "    .dataframe tbody tr th {\n",
              "        vertical-align: top;\n",
              "    }\n",
              "\n",
              "    .dataframe thead th {\n",
              "        text-align: right;\n",
              "    }\n",
              "</style>\n",
              "<table border=\"1\" class=\"dataframe\">\n",
              "  <thead>\n",
              "    <tr style=\"text-align: right;\">\n",
              "      <th></th>\n",
              "      <th>TYPE_OF_COMMODITY</th>\n",
              "      <th>COMMODITY</th>\n",
              "      <th>KGs</th>\n",
              "      <th>Value_of_Goods_Exported</th>\n",
              "      <th>DATE</th>\n",
              "      <th>OBJECTID</th>\n",
              "    </tr>\n",
              "  </thead>\n",
              "  <tbody>\n",
              "    <tr>\n",
              "      <th>0</th>\n",
              "      <td>CUT-FLOWERS</td>\n",
              "      <td>ANTHURIUM LEAVES</td>\n",
              "      <td>3769.74</td>\n",
              "      <td>KES1707653.00</td>\n",
              "      <td>01/25/2015 12:00:00 AM</td>\n",
              "      <td>0</td>\n",
              "    </tr>\n",
              "    <tr>\n",
              "      <th>1</th>\n",
              "      <td>CUT-FLOWERS</td>\n",
              "      <td>CUT FOLIAGE</td>\n",
              "      <td>9040.37</td>\n",
              "      <td>KES4476063.00</td>\n",
              "      <td>01/25/2015 12:00:00 AM</td>\n",
              "      <td>1</td>\n",
              "    </tr>\n",
              "    <tr>\n",
              "      <th>2</th>\n",
              "      <td>CUT-FLOWERS</td>\n",
              "      <td>FILLERS</td>\n",
              "      <td>58.00</td>\n",
              "      <td>KES18938.00</td>\n",
              "      <td>01/25/2015 12:00:00 AM</td>\n",
              "      <td>2</td>\n",
              "    </tr>\n",
              "    <tr>\n",
              "      <th>3</th>\n",
              "      <td>CUT-FLOWERS</td>\n",
              "      <td>LEATHER LEAVES/FERN</td>\n",
              "      <td>309.72</td>\n",
              "      <td>KES121856.00</td>\n",
              "      <td>01/25/2015 12:00:00 AM</td>\n",
              "      <td>3</td>\n",
              "    </tr>\n",
              "    <tr>\n",
              "      <th>4</th>\n",
              "      <td>CUT-FLOWERS</td>\n",
              "      <td>RANUNCULUS</td>\n",
              "      <td>104.00</td>\n",
              "      <td>KES34827.00</td>\n",
              "      <td>01/25/2015 12:00:00 AM</td>\n",
              "      <td>4</td>\n",
              "    </tr>\n",
              "    <tr>\n",
              "      <th>...</th>\n",
              "      <td>...</td>\n",
              "      <td>...</td>\n",
              "      <td>...</td>\n",
              "      <td>...</td>\n",
              "      <td>...</td>\n",
              "      <td>...</td>\n",
              "    </tr>\n",
              "    <tr>\n",
              "      <th>1795</th>\n",
              "      <td>VEGETABLES</td>\n",
              "      <td>TURNIPS</td>\n",
              "      <td>63.00</td>\n",
              "      <td>KES42647.00</td>\n",
              "      <td>12/25/2015 12:00:00 AM</td>\n",
              "      <td>1795</td>\n",
              "    </tr>\n",
              "    <tr>\n",
              "      <th>1796</th>\n",
              "      <td>VEGETABLES</td>\n",
              "      <td>VALORE</td>\n",
              "      <td>0.00</td>\n",
              "      <td>KES0.00</td>\n",
              "      <td>12/25/2015 12:00:00 AM</td>\n",
              "      <td>1796</td>\n",
              "    </tr>\n",
              "    <tr>\n",
              "      <th>1797</th>\n",
              "      <td>VEGETABLES</td>\n",
              "      <td>BEAN PROCESSED</td>\n",
              "      <td>770650.88</td>\n",
              "      <td>KES115660099.00</td>\n",
              "      <td>12/25/2015 12:00:00 AM</td>\n",
              "      <td>1797</td>\n",
              "    </tr>\n",
              "    <tr>\n",
              "      <th>1798</th>\n",
              "      <td>VEGETABLES</td>\n",
              "      <td>SNOW/MANGETOUT</td>\n",
              "      <td>260.00</td>\n",
              "      <td>KES125520.00</td>\n",
              "      <td>12/25/2015 12:00:00 AM</td>\n",
              "      <td>1798</td>\n",
              "    </tr>\n",
              "    <tr>\n",
              "      <th>1799</th>\n",
              "      <td>VEGETABLES</td>\n",
              "      <td>HERBS</td>\n",
              "      <td>122201.63</td>\n",
              "      <td>KES77814477.00</td>\n",
              "      <td>12/25/2015 12:00:00 AM</td>\n",
              "      <td>1799</td>\n",
              "    </tr>\n",
              "  </tbody>\n",
              "</table>\n",
              "<p>1800 rows × 6 columns</p>\n",
              "</div>"
            ],
            "text/plain": [
              "     TYPE_OF_COMMODITY            COMMODITY  ...                    DATE OBJECTID\n",
              "0          CUT-FLOWERS     ANTHURIUM LEAVES  ...  01/25/2015 12:00:00 AM        0\n",
              "1          CUT-FLOWERS          CUT FOLIAGE  ...  01/25/2015 12:00:00 AM        1\n",
              "2          CUT-FLOWERS              FILLERS  ...  01/25/2015 12:00:00 AM        2\n",
              "3          CUT-FLOWERS  LEATHER LEAVES/FERN  ...  01/25/2015 12:00:00 AM        3\n",
              "4          CUT-FLOWERS           RANUNCULUS  ...  01/25/2015 12:00:00 AM        4\n",
              "...                ...                  ...  ...                     ...      ...\n",
              "1795        VEGETABLES              TURNIPS  ...  12/25/2015 12:00:00 AM     1795\n",
              "1796        VEGETABLES               VALORE  ...  12/25/2015 12:00:00 AM     1796\n",
              "1797        VEGETABLES       BEAN PROCESSED  ...  12/25/2015 12:00:00 AM     1797\n",
              "1798        VEGETABLES       SNOW/MANGETOUT  ...  12/25/2015 12:00:00 AM     1798\n",
              "1799        VEGETABLES                HERBS  ...  12/25/2015 12:00:00 AM     1799\n",
              "\n",
              "[1800 rows x 6 columns]"
            ]
          },
          "metadata": {
            "tags": []
          },
          "execution_count": 83
        }
      ]
    },
    {
      "cell_type": "markdown",
      "metadata": {
        "id": "IoLa3ErqsCmM",
        "colab_type": "text"
      },
      "source": [
        "# Exploration"
      ]
    },
    {
      "cell_type": "code",
      "metadata": {
        "id": "MQ4BYxrv9kGj",
        "colab_type": "code",
        "outputId": "6bb6b8c7-97ee-4956-f2f2-08fa70071893",
        "colab": {
          "base_uri": "https://localhost:8080/",
          "height": 34
        }
      },
      "source": [
        "# commodity types:\n",
        "dataset_df['TYPE_OF_COMMODITY'].unique()"
      ],
      "execution_count": 0,
      "outputs": [
        {
          "output_type": "execute_result",
          "data": {
            "text/plain": [
              "array(['CUT-FLOWERS', 'VEGETABLES', 'FRUITS'], dtype=object)"
            ]
          },
          "metadata": {
            "tags": []
          },
          "execution_count": 84
        }
      ]
    },
    {
      "cell_type": "code",
      "metadata": {
        "id": "TwTkSbAGsF8Z",
        "colab_type": "code",
        "outputId": "21e7f426-0762-4a54-8a00-b45658fd232d",
        "colab": {
          "base_uri": "https://localhost:8080/",
          "height": 238
        }
      },
      "source": [
        "# accessing information about the dataset:\n",
        "dataset_df.info()"
      ],
      "execution_count": 0,
      "outputs": [
        {
          "output_type": "stream",
          "text": [
            "<class 'pandas.core.frame.DataFrame'>\n",
            "RangeIndex: 1800 entries, 0 to 1799\n",
            "Data columns (total 6 columns):\n",
            " #   Column                   Non-Null Count  Dtype  \n",
            "---  ------                   --------------  -----  \n",
            " 0   TYPE_OF_COMMODITY        1800 non-null   object \n",
            " 1   COMMODITY                1800 non-null   object \n",
            " 2   KGs                      1800 non-null   float64\n",
            " 3   Value_of_Goods_Exported  1788 non-null   object \n",
            " 4   DATE                     1800 non-null   object \n",
            " 5   OBJECTID                 1800 non-null   int64  \n",
            "dtypes: float64(1), int64(1), object(4)\n",
            "memory usage: 84.5+ KB\n"
          ],
          "name": "stdout"
        }
      ]
    },
    {
      "cell_type": "markdown",
      "metadata": {
        "id": "Dger-jR0sMIu",
        "colab_type": "text"
      },
      "source": [
        "# Data Cleaning \n",
        "\n",
        "During data cleaning we are going to do the following:\n",
        "1. Check for and dropping irrelevant columns.\n",
        "2. Standardization; Change upper case values to lower case values, rename columns and data type conversion were necessary.\n",
        "3. Check for null values and dropping them.\n",
        "4. Check for missing values and act on them accordingly. \n",
        "5. Check for duplicate values and dropping them. "
      ]
    },
    {
      "cell_type": "code",
      "metadata": {
        "id": "QYHPCrHcM3DS",
        "colab_type": "code",
        "outputId": "4133db37-300e-4b7f-87b0-845ea381412d",
        "colab": {
          "base_uri": "https://localhost:8080/",
          "height": 204
        }
      },
      "source": [
        "# dropping 'OBJECTID'column not relevant for the analysis:\n",
        "dataset_df.drop('OBJECTID', axis=1, inplace=True)\n",
        "dataset_df.head(5)"
      ],
      "execution_count": 0,
      "outputs": [
        {
          "output_type": "execute_result",
          "data": {
            "text/html": [
              "<div>\n",
              "<style scoped>\n",
              "    .dataframe tbody tr th:only-of-type {\n",
              "        vertical-align: middle;\n",
              "    }\n",
              "\n",
              "    .dataframe tbody tr th {\n",
              "        vertical-align: top;\n",
              "    }\n",
              "\n",
              "    .dataframe thead th {\n",
              "        text-align: right;\n",
              "    }\n",
              "</style>\n",
              "<table border=\"1\" class=\"dataframe\">\n",
              "  <thead>\n",
              "    <tr style=\"text-align: right;\">\n",
              "      <th></th>\n",
              "      <th>TYPE_OF_COMMODITY</th>\n",
              "      <th>COMMODITY</th>\n",
              "      <th>KGs</th>\n",
              "      <th>Value_of_Goods_Exported</th>\n",
              "      <th>DATE</th>\n",
              "    </tr>\n",
              "  </thead>\n",
              "  <tbody>\n",
              "    <tr>\n",
              "      <th>0</th>\n",
              "      <td>CUT-FLOWERS</td>\n",
              "      <td>ANTHURIUM LEAVES</td>\n",
              "      <td>3769.74</td>\n",
              "      <td>KES1707653.00</td>\n",
              "      <td>01/25/2015 12:00:00 AM</td>\n",
              "    </tr>\n",
              "    <tr>\n",
              "      <th>1</th>\n",
              "      <td>CUT-FLOWERS</td>\n",
              "      <td>CUT FOLIAGE</td>\n",
              "      <td>9040.37</td>\n",
              "      <td>KES4476063.00</td>\n",
              "      <td>01/25/2015 12:00:00 AM</td>\n",
              "    </tr>\n",
              "    <tr>\n",
              "      <th>2</th>\n",
              "      <td>CUT-FLOWERS</td>\n",
              "      <td>FILLERS</td>\n",
              "      <td>58.00</td>\n",
              "      <td>KES18938.00</td>\n",
              "      <td>01/25/2015 12:00:00 AM</td>\n",
              "    </tr>\n",
              "    <tr>\n",
              "      <th>3</th>\n",
              "      <td>CUT-FLOWERS</td>\n",
              "      <td>LEATHER LEAVES/FERN</td>\n",
              "      <td>309.72</td>\n",
              "      <td>KES121856.00</td>\n",
              "      <td>01/25/2015 12:00:00 AM</td>\n",
              "    </tr>\n",
              "    <tr>\n",
              "      <th>4</th>\n",
              "      <td>CUT-FLOWERS</td>\n",
              "      <td>RANUNCULUS</td>\n",
              "      <td>104.00</td>\n",
              "      <td>KES34827.00</td>\n",
              "      <td>01/25/2015 12:00:00 AM</td>\n",
              "    </tr>\n",
              "  </tbody>\n",
              "</table>\n",
              "</div>"
            ],
            "text/plain": [
              "  TYPE_OF_COMMODITY  ...                    DATE\n",
              "0       CUT-FLOWERS  ...  01/25/2015 12:00:00 AM\n",
              "1       CUT-FLOWERS  ...  01/25/2015 12:00:00 AM\n",
              "2       CUT-FLOWERS  ...  01/25/2015 12:00:00 AM\n",
              "3       CUT-FLOWERS  ...  01/25/2015 12:00:00 AM\n",
              "4       CUT-FLOWERS  ...  01/25/2015 12:00:00 AM\n",
              "\n",
              "[5 rows x 5 columns]"
            ]
          },
          "metadata": {
            "tags": []
          },
          "execution_count": 86
        }
      ]
    },
    {
      "cell_type": "code",
      "metadata": {
        "id": "DsWAupLisWg3",
        "colab_type": "code",
        "outputId": "cd191a80-4ab6-4568-e4f1-0e5689c68399",
        "colab": {
          "base_uri": "https://localhost:8080/",
          "height": 119
        }
      },
      "source": [
        "#Checking for missing values \n",
        "row_count = dataset_df.shape[0]\n",
        "missing_count = row_count - dataset_df.count() \n",
        "missing_count"
      ],
      "execution_count": 0,
      "outputs": [
        {
          "output_type": "execute_result",
          "data": {
            "text/plain": [
              "TYPE_OF_COMMODITY           0\n",
              "COMMODITY                   0\n",
              "KGs                         0\n",
              "Value_of_Goods_Exported    12\n",
              "DATE                        0\n",
              "dtype: int64"
            ]
          },
          "metadata": {
            "tags": []
          },
          "execution_count": 87
        }
      ]
    },
    {
      "cell_type": "markdown",
      "metadata": {
        "id": "MHNyMViw5xs7",
        "colab_type": "text"
      },
      "source": [
        "There are 12 missing items in the 'Value_of_Goods_Exported' column."
      ]
    },
    {
      "cell_type": "code",
      "metadata": {
        "id": "k0JMmi3SvThm",
        "colab_type": "code",
        "outputId": "be8da771-20e8-4ddc-a125-47f8f1500f79",
        "colab": {
          "base_uri": "https://localhost:8080/",
          "height": 421
        }
      },
      "source": [
        "# previewing the rows with missing values by\n",
        "# creating bool series True for missing values in 'Value_of_Goods_Exported' column which has 12 missing values:  \n",
        "bool_series = pd.isnull(dataset_df[\"Value_of_Goods_Exported\"])  \n",
        "# displaying data only with \"Value_of_Goods_Exported\" = NaN  \n",
        "dataset_df[bool_series]\n",
        "# "
      ],
      "execution_count": 0,
      "outputs": [
        {
          "output_type": "execute_result",
          "data": {
            "text/html": [
              "<div>\n",
              "<style scoped>\n",
              "    .dataframe tbody tr th:only-of-type {\n",
              "        vertical-align: middle;\n",
              "    }\n",
              "\n",
              "    .dataframe tbody tr th {\n",
              "        vertical-align: top;\n",
              "    }\n",
              "\n",
              "    .dataframe thead th {\n",
              "        text-align: right;\n",
              "    }\n",
              "</style>\n",
              "<table border=\"1\" class=\"dataframe\">\n",
              "  <thead>\n",
              "    <tr style=\"text-align: right;\">\n",
              "      <th></th>\n",
              "      <th>TYPE_OF_COMMODITY</th>\n",
              "      <th>COMMODITY</th>\n",
              "      <th>KGs</th>\n",
              "      <th>Value_of_Goods_Exported</th>\n",
              "      <th>DATE</th>\n",
              "    </tr>\n",
              "  </thead>\n",
              "  <tbody>\n",
              "    <tr>\n",
              "      <th>28</th>\n",
              "      <td>CUT-FLOWERS</td>\n",
              "      <td>CARTHAMUS</td>\n",
              "      <td>0.00</td>\n",
              "      <td>NaN</td>\n",
              "      <td>01/25/2015 12:00:00 AM</td>\n",
              "    </tr>\n",
              "    <tr>\n",
              "      <th>179</th>\n",
              "      <td>CUT-FLOWERS</td>\n",
              "      <td>CARTHAMUS</td>\n",
              "      <td>0.00</td>\n",
              "      <td>NaN</td>\n",
              "      <td>02/25/2015 12:00:00 AM</td>\n",
              "    </tr>\n",
              "    <tr>\n",
              "      <th>330</th>\n",
              "      <td>CUT-FLOWERS</td>\n",
              "      <td>CARTHAMUS</td>\n",
              "      <td>0.00</td>\n",
              "      <td>NaN</td>\n",
              "      <td>03/25/2015 12:00:00 AM</td>\n",
              "    </tr>\n",
              "    <tr>\n",
              "      <th>480</th>\n",
              "      <td>CUT-FLOWERS</td>\n",
              "      <td>CARTHAMUS</td>\n",
              "      <td>0.00</td>\n",
              "      <td>NaN</td>\n",
              "      <td>04/25/2015 12:00:00 AM</td>\n",
              "    </tr>\n",
              "    <tr>\n",
              "      <th>631</th>\n",
              "      <td>CUT-FLOWERS</td>\n",
              "      <td>CARTHAMUS</td>\n",
              "      <td>0.00</td>\n",
              "      <td>NaN</td>\n",
              "      <td>05/25/2015 12:00:00 AM</td>\n",
              "    </tr>\n",
              "    <tr>\n",
              "      <th>782</th>\n",
              "      <td>CUT-FLOWERS</td>\n",
              "      <td>CARTHAMUS</td>\n",
              "      <td>0.00</td>\n",
              "      <td>NaN</td>\n",
              "      <td>06/25/2015 12:00:00 AM</td>\n",
              "    </tr>\n",
              "    <tr>\n",
              "      <th>932</th>\n",
              "      <td>CUT-FLOWERS</td>\n",
              "      <td>CARTHAMUS</td>\n",
              "      <td>0.00</td>\n",
              "      <td>NaN</td>\n",
              "      <td>07/25/2015 12:00:00 AM</td>\n",
              "    </tr>\n",
              "    <tr>\n",
              "      <th>1082</th>\n",
              "      <td>CUT-FLOWERS</td>\n",
              "      <td>CARTHAMUS</td>\n",
              "      <td>0.00</td>\n",
              "      <td>NaN</td>\n",
              "      <td>08/25/2015 12:00:00 AM</td>\n",
              "    </tr>\n",
              "    <tr>\n",
              "      <th>1228</th>\n",
              "      <td>CUT-FLOWERS</td>\n",
              "      <td>CARTHAMUS</td>\n",
              "      <td>0.00</td>\n",
              "      <td>NaN</td>\n",
              "      <td>09/25/2015 12:00:00 AM</td>\n",
              "    </tr>\n",
              "    <tr>\n",
              "      <th>1379</th>\n",
              "      <td>CUT-FLOWERS</td>\n",
              "      <td>CARTHAMUS</td>\n",
              "      <td>175.29</td>\n",
              "      <td>NaN</td>\n",
              "      <td>10/25/2015 12:00:00 AM</td>\n",
              "    </tr>\n",
              "    <tr>\n",
              "      <th>1529</th>\n",
              "      <td>CUT-FLOWERS</td>\n",
              "      <td>CARTHAMUS</td>\n",
              "      <td>0.00</td>\n",
              "      <td>NaN</td>\n",
              "      <td>11/25/2015 12:00:00 AM</td>\n",
              "    </tr>\n",
              "    <tr>\n",
              "      <th>1678</th>\n",
              "      <td>CUT-FLOWERS</td>\n",
              "      <td>CARTHAMUS</td>\n",
              "      <td>9.04</td>\n",
              "      <td>NaN</td>\n",
              "      <td>12/25/2015 12:00:00 AM</td>\n",
              "    </tr>\n",
              "  </tbody>\n",
              "</table>\n",
              "</div>"
            ],
            "text/plain": [
              "     TYPE_OF_COMMODITY  ...                    DATE\n",
              "28         CUT-FLOWERS  ...  01/25/2015 12:00:00 AM\n",
              "179        CUT-FLOWERS  ...  02/25/2015 12:00:00 AM\n",
              "330        CUT-FLOWERS  ...  03/25/2015 12:00:00 AM\n",
              "480        CUT-FLOWERS  ...  04/25/2015 12:00:00 AM\n",
              "631        CUT-FLOWERS  ...  05/25/2015 12:00:00 AM\n",
              "782        CUT-FLOWERS  ...  06/25/2015 12:00:00 AM\n",
              "932        CUT-FLOWERS  ...  07/25/2015 12:00:00 AM\n",
              "1082       CUT-FLOWERS  ...  08/25/2015 12:00:00 AM\n",
              "1228       CUT-FLOWERS  ...  09/25/2015 12:00:00 AM\n",
              "1379       CUT-FLOWERS  ...  10/25/2015 12:00:00 AM\n",
              "1529       CUT-FLOWERS  ...  11/25/2015 12:00:00 AM\n",
              "1678       CUT-FLOWERS  ...  12/25/2015 12:00:00 AM\n",
              "\n",
              "[12 rows x 5 columns]"
            ]
          },
          "metadata": {
            "tags": []
          },
          "execution_count": 88
        }
      ]
    },
    {
      "cell_type": "markdown",
      "metadata": {
        "id": "SwasAxoC5_ZP",
        "colab_type": "text"
      },
      "source": [
        "This reveals that 'CARTHAMUS' under COMMODITY is the most affected."
      ]
    },
    {
      "cell_type": "code",
      "metadata": {
        "id": "cpqLAW_rxVvx",
        "colab_type": "code",
        "outputId": "076a0d8d-a963-44ed-cc74-c59d0d2bd605",
        "colab": {
          "base_uri": "https://localhost:8080/",
          "height": 421
        }
      },
      "source": [
        "# previewing all rows and columns of the affected commodity:\n",
        "CARTHAMUS_rows= dataset_df[dataset_df.COMMODITY == \"CARTHAMUS\"]\n",
        "CARTHAMUS_rows"
      ],
      "execution_count": 0,
      "outputs": [
        {
          "output_type": "execute_result",
          "data": {
            "text/html": [
              "<div>\n",
              "<style scoped>\n",
              "    .dataframe tbody tr th:only-of-type {\n",
              "        vertical-align: middle;\n",
              "    }\n",
              "\n",
              "    .dataframe tbody tr th {\n",
              "        vertical-align: top;\n",
              "    }\n",
              "\n",
              "    .dataframe thead th {\n",
              "        text-align: right;\n",
              "    }\n",
              "</style>\n",
              "<table border=\"1\" class=\"dataframe\">\n",
              "  <thead>\n",
              "    <tr style=\"text-align: right;\">\n",
              "      <th></th>\n",
              "      <th>TYPE_OF_COMMODITY</th>\n",
              "      <th>COMMODITY</th>\n",
              "      <th>KGs</th>\n",
              "      <th>Value_of_Goods_Exported</th>\n",
              "      <th>DATE</th>\n",
              "    </tr>\n",
              "  </thead>\n",
              "  <tbody>\n",
              "    <tr>\n",
              "      <th>28</th>\n",
              "      <td>CUT-FLOWERS</td>\n",
              "      <td>CARTHAMUS</td>\n",
              "      <td>0.00</td>\n",
              "      <td>NaN</td>\n",
              "      <td>01/25/2015 12:00:00 AM</td>\n",
              "    </tr>\n",
              "    <tr>\n",
              "      <th>179</th>\n",
              "      <td>CUT-FLOWERS</td>\n",
              "      <td>CARTHAMUS</td>\n",
              "      <td>0.00</td>\n",
              "      <td>NaN</td>\n",
              "      <td>02/25/2015 12:00:00 AM</td>\n",
              "    </tr>\n",
              "    <tr>\n",
              "      <th>330</th>\n",
              "      <td>CUT-FLOWERS</td>\n",
              "      <td>CARTHAMUS</td>\n",
              "      <td>0.00</td>\n",
              "      <td>NaN</td>\n",
              "      <td>03/25/2015 12:00:00 AM</td>\n",
              "    </tr>\n",
              "    <tr>\n",
              "      <th>480</th>\n",
              "      <td>CUT-FLOWERS</td>\n",
              "      <td>CARTHAMUS</td>\n",
              "      <td>0.00</td>\n",
              "      <td>NaN</td>\n",
              "      <td>04/25/2015 12:00:00 AM</td>\n",
              "    </tr>\n",
              "    <tr>\n",
              "      <th>631</th>\n",
              "      <td>CUT-FLOWERS</td>\n",
              "      <td>CARTHAMUS</td>\n",
              "      <td>0.00</td>\n",
              "      <td>NaN</td>\n",
              "      <td>05/25/2015 12:00:00 AM</td>\n",
              "    </tr>\n",
              "    <tr>\n",
              "      <th>782</th>\n",
              "      <td>CUT-FLOWERS</td>\n",
              "      <td>CARTHAMUS</td>\n",
              "      <td>0.00</td>\n",
              "      <td>NaN</td>\n",
              "      <td>06/25/2015 12:00:00 AM</td>\n",
              "    </tr>\n",
              "    <tr>\n",
              "      <th>932</th>\n",
              "      <td>CUT-FLOWERS</td>\n",
              "      <td>CARTHAMUS</td>\n",
              "      <td>0.00</td>\n",
              "      <td>NaN</td>\n",
              "      <td>07/25/2015 12:00:00 AM</td>\n",
              "    </tr>\n",
              "    <tr>\n",
              "      <th>1082</th>\n",
              "      <td>CUT-FLOWERS</td>\n",
              "      <td>CARTHAMUS</td>\n",
              "      <td>0.00</td>\n",
              "      <td>NaN</td>\n",
              "      <td>08/25/2015 12:00:00 AM</td>\n",
              "    </tr>\n",
              "    <tr>\n",
              "      <th>1228</th>\n",
              "      <td>CUT-FLOWERS</td>\n",
              "      <td>CARTHAMUS</td>\n",
              "      <td>0.00</td>\n",
              "      <td>NaN</td>\n",
              "      <td>09/25/2015 12:00:00 AM</td>\n",
              "    </tr>\n",
              "    <tr>\n",
              "      <th>1379</th>\n",
              "      <td>CUT-FLOWERS</td>\n",
              "      <td>CARTHAMUS</td>\n",
              "      <td>175.29</td>\n",
              "      <td>NaN</td>\n",
              "      <td>10/25/2015 12:00:00 AM</td>\n",
              "    </tr>\n",
              "    <tr>\n",
              "      <th>1529</th>\n",
              "      <td>CUT-FLOWERS</td>\n",
              "      <td>CARTHAMUS</td>\n",
              "      <td>0.00</td>\n",
              "      <td>NaN</td>\n",
              "      <td>11/25/2015 12:00:00 AM</td>\n",
              "    </tr>\n",
              "    <tr>\n",
              "      <th>1678</th>\n",
              "      <td>CUT-FLOWERS</td>\n",
              "      <td>CARTHAMUS</td>\n",
              "      <td>9.04</td>\n",
              "      <td>NaN</td>\n",
              "      <td>12/25/2015 12:00:00 AM</td>\n",
              "    </tr>\n",
              "  </tbody>\n",
              "</table>\n",
              "</div>"
            ],
            "text/plain": [
              "     TYPE_OF_COMMODITY  ...                    DATE\n",
              "28         CUT-FLOWERS  ...  01/25/2015 12:00:00 AM\n",
              "179        CUT-FLOWERS  ...  02/25/2015 12:00:00 AM\n",
              "330        CUT-FLOWERS  ...  03/25/2015 12:00:00 AM\n",
              "480        CUT-FLOWERS  ...  04/25/2015 12:00:00 AM\n",
              "631        CUT-FLOWERS  ...  05/25/2015 12:00:00 AM\n",
              "782        CUT-FLOWERS  ...  06/25/2015 12:00:00 AM\n",
              "932        CUT-FLOWERS  ...  07/25/2015 12:00:00 AM\n",
              "1082       CUT-FLOWERS  ...  08/25/2015 12:00:00 AM\n",
              "1228       CUT-FLOWERS  ...  09/25/2015 12:00:00 AM\n",
              "1379       CUT-FLOWERS  ...  10/25/2015 12:00:00 AM\n",
              "1529       CUT-FLOWERS  ...  11/25/2015 12:00:00 AM\n",
              "1678       CUT-FLOWERS  ...  12/25/2015 12:00:00 AM\n",
              "\n",
              "[12 rows x 5 columns]"
            ]
          },
          "metadata": {
            "tags": []
          },
          "execution_count": 89
        }
      ]
    },
    {
      "cell_type": "code",
      "metadata": {
        "id": "6qqCxkRI0wBj",
        "colab_type": "code",
        "outputId": "50c6afc3-c818-42ea-e637-a51511e78d9a",
        "colab": {
          "base_uri": "https://localhost:8080/",
          "height": 111
        }
      },
      "source": [
        "v# dropping rows where 'CARTHAMUS' COMMODITY KGs is 0.00:\n",
        "dataset_df.drop(dataset_df[dataset_df['KGs'] == 0.00].index, inplace = True)\n",
        "# then previewing all rows and columns of the affected commodity after dropping rows where 'CARTHAMUS' COMMODITY KGs is 0.00:\n",
        "cleaned_CARTHAMUS_rows= dataset_df[dataset_df.COMMODITY == \"CARTHAMUS\"]\n",
        "cleaned_CARTHAMUS_rows"
      ],
      "execution_count": 0,
      "outputs": [
        {
          "output_type": "execute_result",
          "data": {
            "text/html": [
              "<div>\n",
              "<style scoped>\n",
              "    .dataframe tbody tr th:only-of-type {\n",
              "        vertical-align: middle;\n",
              "    }\n",
              "\n",
              "    .dataframe tbody tr th {\n",
              "        vertical-align: top;\n",
              "    }\n",
              "\n",
              "    .dataframe thead th {\n",
              "        text-align: right;\n",
              "    }\n",
              "</style>\n",
              "<table border=\"1\" class=\"dataframe\">\n",
              "  <thead>\n",
              "    <tr style=\"text-align: right;\">\n",
              "      <th></th>\n",
              "      <th>TYPE_OF_COMMODITY</th>\n",
              "      <th>COMMODITY</th>\n",
              "      <th>KGs</th>\n",
              "      <th>Value_of_Goods_Exported</th>\n",
              "      <th>DATE</th>\n",
              "    </tr>\n",
              "  </thead>\n",
              "  <tbody>\n",
              "    <tr>\n",
              "      <th>1379</th>\n",
              "      <td>CUT-FLOWERS</td>\n",
              "      <td>CARTHAMUS</td>\n",
              "      <td>175.29</td>\n",
              "      <td>NaN</td>\n",
              "      <td>10/25/2015 12:00:00 AM</td>\n",
              "    </tr>\n",
              "    <tr>\n",
              "      <th>1678</th>\n",
              "      <td>CUT-FLOWERS</td>\n",
              "      <td>CARTHAMUS</td>\n",
              "      <td>9.04</td>\n",
              "      <td>NaN</td>\n",
              "      <td>12/25/2015 12:00:00 AM</td>\n",
              "    </tr>\n",
              "  </tbody>\n",
              "</table>\n",
              "</div>"
            ],
            "text/plain": [
              "     TYPE_OF_COMMODITY  ...                    DATE\n",
              "1379       CUT-FLOWERS  ...  10/25/2015 12:00:00 AM\n",
              "1678       CUT-FLOWERS  ...  12/25/2015 12:00:00 AM\n",
              "\n",
              "[2 rows x 5 columns]"
            ]
          },
          "metadata": {
            "tags": []
          },
          "execution_count": 90
        }
      ]
    },
    {
      "cell_type": "code",
      "metadata": {
        "id": "OwuNqEm-2w6j",
        "colab_type": "code",
        "outputId": "6ba063b5-e6d7-413d-d649-c086410d52f1",
        "colab": {
          "base_uri": "https://localhost:8080/",
          "height": 119
        }
      },
      "source": [
        "# Replacing NaN values on 'Value_of_Goods_Exported' for CARTHAMUS with KES0.00:\n",
        "# \n",
        "dataset_df[\"Value_of_Goods_Exported\"].fillna(\"KES0.00\", inplace = True) \n",
        "#\n",
        "# checking if the changes have been effected, and if there are any more null values in the dataset:\n",
        "dataset_df.isnull().sum()"
      ],
      "execution_count": 0,
      "outputs": [
        {
          "output_type": "execute_result",
          "data": {
            "text/plain": [
              "TYPE_OF_COMMODITY          0\n",
              "COMMODITY                  0\n",
              "KGs                        0\n",
              "Value_of_Goods_Exported    0\n",
              "DATE                       0\n",
              "dtype: int64"
            ]
          },
          "metadata": {
            "tags": []
          },
          "execution_count": 91
        }
      ]
    },
    {
      "cell_type": "markdown",
      "metadata": {
        "id": "w0ov9T9kA9PY",
        "colab_type": "text"
      },
      "source": [
        "We have no null values in the dataset."
      ]
    },
    {
      "cell_type": "code",
      "metadata": {
        "id": "hxzL_3vD_vjM",
        "colab_type": "code",
        "outputId": "56c7c1f0-d805-4ad0-aec0-d43bd830d574",
        "colab": {
          "base_uri": "https://localhost:8080/",
          "height": 119
        }
      },
      "source": [
        "# Checking for duplicates\n",
        "duplicateRows = dataset_df[dataset_df.duplicated()]\n",
        "duplicateRows.count()"
      ],
      "execution_count": 0,
      "outputs": [
        {
          "output_type": "execute_result",
          "data": {
            "text/plain": [
              "TYPE_OF_COMMODITY          0\n",
              "COMMODITY                  0\n",
              "KGs                        0\n",
              "Value_of_Goods_Exported    0\n",
              "DATE                       0\n",
              "dtype: int64"
            ]
          },
          "metadata": {
            "tags": []
          },
          "execution_count": 92
        }
      ]
    },
    {
      "cell_type": "markdown",
      "metadata": {
        "id": "mrIWqYPgBOWt",
        "colab_type": "text"
      },
      "source": [
        "We have no duplicate rows in the dataset."
      ]
    },
    {
      "cell_type": "code",
      "metadata": {
        "id": "IEoR98TrN8Fp",
        "colab_type": "code",
        "outputId": "bdabbba8-57ad-4482-fd38-54edc646cdf4",
        "colab": {
          "base_uri": "https://localhost:8080/",
          "height": 419
        }
      },
      "source": [
        "# changing and formatting the dataset column names:\n",
        "dataset_df.rename(columns={\"TYPE_OF_COMMODITY\": \"commodity_type\", \"COMMODITY\": \"commodity\", \"KGs\": \"weight_kgs\",\n",
        "                           \"Value_of_Goods_Exported\": \"exportgoods_value_kes\",\"DATE\": \"date\"}, inplace=True)\n",
        "dataset_df"
      ],
      "execution_count": 0,
      "outputs": [
        {
          "output_type": "execute_result",
          "data": {
            "text/html": [
              "<div>\n",
              "<style scoped>\n",
              "    .dataframe tbody tr th:only-of-type {\n",
              "        vertical-align: middle;\n",
              "    }\n",
              "\n",
              "    .dataframe tbody tr th {\n",
              "        vertical-align: top;\n",
              "    }\n",
              "\n",
              "    .dataframe thead th {\n",
              "        text-align: right;\n",
              "    }\n",
              "</style>\n",
              "<table border=\"1\" class=\"dataframe\">\n",
              "  <thead>\n",
              "    <tr style=\"text-align: right;\">\n",
              "      <th></th>\n",
              "      <th>commodity_type</th>\n",
              "      <th>commodity</th>\n",
              "      <th>weight_kgs</th>\n",
              "      <th>exportgoods_value_kes</th>\n",
              "      <th>date</th>\n",
              "    </tr>\n",
              "  </thead>\n",
              "  <tbody>\n",
              "    <tr>\n",
              "      <th>0</th>\n",
              "      <td>CUT-FLOWERS</td>\n",
              "      <td>ANTHURIUM LEAVES</td>\n",
              "      <td>3769.74</td>\n",
              "      <td>KES1707653.00</td>\n",
              "      <td>01/25/2015 12:00:00 AM</td>\n",
              "    </tr>\n",
              "    <tr>\n",
              "      <th>1</th>\n",
              "      <td>CUT-FLOWERS</td>\n",
              "      <td>CUT FOLIAGE</td>\n",
              "      <td>9040.37</td>\n",
              "      <td>KES4476063.00</td>\n",
              "      <td>01/25/2015 12:00:00 AM</td>\n",
              "    </tr>\n",
              "    <tr>\n",
              "      <th>2</th>\n",
              "      <td>CUT-FLOWERS</td>\n",
              "      <td>FILLERS</td>\n",
              "      <td>58.00</td>\n",
              "      <td>KES18938.00</td>\n",
              "      <td>01/25/2015 12:00:00 AM</td>\n",
              "    </tr>\n",
              "    <tr>\n",
              "      <th>3</th>\n",
              "      <td>CUT-FLOWERS</td>\n",
              "      <td>LEATHER LEAVES/FERN</td>\n",
              "      <td>309.72</td>\n",
              "      <td>KES121856.00</td>\n",
              "      <td>01/25/2015 12:00:00 AM</td>\n",
              "    </tr>\n",
              "    <tr>\n",
              "      <th>4</th>\n",
              "      <td>CUT-FLOWERS</td>\n",
              "      <td>RANUNCULUS</td>\n",
              "      <td>104.00</td>\n",
              "      <td>KES34827.00</td>\n",
              "      <td>01/25/2015 12:00:00 AM</td>\n",
              "    </tr>\n",
              "    <tr>\n",
              "      <th>...</th>\n",
              "      <td>...</td>\n",
              "      <td>...</td>\n",
              "      <td>...</td>\n",
              "      <td>...</td>\n",
              "      <td>...</td>\n",
              "    </tr>\n",
              "    <tr>\n",
              "      <th>1794</th>\n",
              "      <td>VEGETABLES</td>\n",
              "      <td>TURIA</td>\n",
              "      <td>1293.50</td>\n",
              "      <td>KES474026.00</td>\n",
              "      <td>12/25/2015 12:00:00 AM</td>\n",
              "    </tr>\n",
              "    <tr>\n",
              "      <th>1795</th>\n",
              "      <td>VEGETABLES</td>\n",
              "      <td>TURNIPS</td>\n",
              "      <td>63.00</td>\n",
              "      <td>KES42647.00</td>\n",
              "      <td>12/25/2015 12:00:00 AM</td>\n",
              "    </tr>\n",
              "    <tr>\n",
              "      <th>1797</th>\n",
              "      <td>VEGETABLES</td>\n",
              "      <td>BEAN PROCESSED</td>\n",
              "      <td>770650.88</td>\n",
              "      <td>KES115660099.00</td>\n",
              "      <td>12/25/2015 12:00:00 AM</td>\n",
              "    </tr>\n",
              "    <tr>\n",
              "      <th>1798</th>\n",
              "      <td>VEGETABLES</td>\n",
              "      <td>SNOW/MANGETOUT</td>\n",
              "      <td>260.00</td>\n",
              "      <td>KES125520.00</td>\n",
              "      <td>12/25/2015 12:00:00 AM</td>\n",
              "    </tr>\n",
              "    <tr>\n",
              "      <th>1799</th>\n",
              "      <td>VEGETABLES</td>\n",
              "      <td>HERBS</td>\n",
              "      <td>122201.63</td>\n",
              "      <td>KES77814477.00</td>\n",
              "      <td>12/25/2015 12:00:00 AM</td>\n",
              "    </tr>\n",
              "  </tbody>\n",
              "</table>\n",
              "<p>1338 rows × 5 columns</p>\n",
              "</div>"
            ],
            "text/plain": [
              "     commodity_type  ...                    date\n",
              "0       CUT-FLOWERS  ...  01/25/2015 12:00:00 AM\n",
              "1       CUT-FLOWERS  ...  01/25/2015 12:00:00 AM\n",
              "2       CUT-FLOWERS  ...  01/25/2015 12:00:00 AM\n",
              "3       CUT-FLOWERS  ...  01/25/2015 12:00:00 AM\n",
              "4       CUT-FLOWERS  ...  01/25/2015 12:00:00 AM\n",
              "...             ...  ...                     ...\n",
              "1794     VEGETABLES  ...  12/25/2015 12:00:00 AM\n",
              "1795     VEGETABLES  ...  12/25/2015 12:00:00 AM\n",
              "1797     VEGETABLES  ...  12/25/2015 12:00:00 AM\n",
              "1798     VEGETABLES  ...  12/25/2015 12:00:00 AM\n",
              "1799     VEGETABLES  ...  12/25/2015 12:00:00 AM\n",
              "\n",
              "[1338 rows x 5 columns]"
            ]
          },
          "metadata": {
            "tags": []
          },
          "execution_count": 93
        }
      ]
    },
    {
      "cell_type": "code",
      "metadata": {
        "id": "lwOVEzrlhPUE",
        "colab_type": "code",
        "outputId": "9619f706-01bb-44b2-e03d-5766205a9cdc",
        "colab": {
          "base_uri": "https://localhost:8080/",
          "height": 51
        }
      },
      "source": [
        "# checking the data types in 'exportgoods_value_kes' column:\n",
        "#\n",
        "dataset_df['exportgoods_value_kes'].apply(type).value_counts()"
      ],
      "execution_count": 0,
      "outputs": [
        {
          "output_type": "execute_result",
          "data": {
            "text/plain": [
              "<class 'str'>    1338\n",
              "Name: exportgoods_value_kes, dtype: int64"
            ]
          },
          "metadata": {
            "tags": []
          },
          "execution_count": 94
        }
      ]
    },
    {
      "cell_type": "code",
      "metadata": {
        "id": "92S0sEdAFAgh",
        "colab_type": "code",
        "colab": {}
      },
      "source": [
        "# removing the leading text(KES) from the 'exportgoods_value_kes' column:\n",
        "# defining a function for cleaning the currency:\n",
        "def clean_currency(x):\n",
        "    if isinstance(x, str):\n",
        "        return(x.replace('KES', '')) \n",
        "    return(x)"
      ],
      "execution_count": 0,
      "outputs": []
    },
    {
      "cell_type": "code",
      "metadata": {
        "id": "iupVUf0fk5ay",
        "colab_type": "code",
        "outputId": "b47ed7b1-beb7-43e9-e94a-e28adcb4a399",
        "colab": {
          "base_uri": "https://localhost:8080/",
          "height": 346
        }
      },
      "source": [
        "# now applying the function to clean the 'exportgoods_value_kes'and return values as float:\n",
        "dataset_df['exportgoods_value_kes'] = dataset_df['exportgoods_value_kes'].apply(clean_currency).astype('float')\n",
        "pd.options.display.float_format = '{:.2f}'.format\n",
        "# then previewing the top rows:\n",
        "dataset_df.info()\n",
        "dataset_df[:3]"
      ],
      "execution_count": 0,
      "outputs": [
        {
          "output_type": "stream",
          "text": [
            "<class 'pandas.core.frame.DataFrame'>\n",
            "Int64Index: 1338 entries, 0 to 1799\n",
            "Data columns (total 5 columns):\n",
            " #   Column                 Non-Null Count  Dtype  \n",
            "---  ------                 --------------  -----  \n",
            " 0   commodity_type         1338 non-null   object \n",
            " 1   commodity              1338 non-null   object \n",
            " 2   weight_kgs             1338 non-null   float64\n",
            " 3   exportgoods_value_kes  1338 non-null   float64\n",
            " 4   date                   1338 non-null   object \n",
            "dtypes: float64(2), object(3)\n",
            "memory usage: 62.7+ KB\n"
          ],
          "name": "stdout"
        },
        {
          "output_type": "execute_result",
          "data": {
            "text/html": [
              "<div>\n",
              "<style scoped>\n",
              "    .dataframe tbody tr th:only-of-type {\n",
              "        vertical-align: middle;\n",
              "    }\n",
              "\n",
              "    .dataframe tbody tr th {\n",
              "        vertical-align: top;\n",
              "    }\n",
              "\n",
              "    .dataframe thead th {\n",
              "        text-align: right;\n",
              "    }\n",
              "</style>\n",
              "<table border=\"1\" class=\"dataframe\">\n",
              "  <thead>\n",
              "    <tr style=\"text-align: right;\">\n",
              "      <th></th>\n",
              "      <th>commodity_type</th>\n",
              "      <th>commodity</th>\n",
              "      <th>weight_kgs</th>\n",
              "      <th>exportgoods_value_kes</th>\n",
              "      <th>date</th>\n",
              "    </tr>\n",
              "  </thead>\n",
              "  <tbody>\n",
              "    <tr>\n",
              "      <th>0</th>\n",
              "      <td>CUT-FLOWERS</td>\n",
              "      <td>ANTHURIUM LEAVES</td>\n",
              "      <td>3769.74</td>\n",
              "      <td>1707653.00</td>\n",
              "      <td>01/25/2015 12:00:00 AM</td>\n",
              "    </tr>\n",
              "    <tr>\n",
              "      <th>1</th>\n",
              "      <td>CUT-FLOWERS</td>\n",
              "      <td>CUT FOLIAGE</td>\n",
              "      <td>9040.37</td>\n",
              "      <td>4476063.00</td>\n",
              "      <td>01/25/2015 12:00:00 AM</td>\n",
              "    </tr>\n",
              "    <tr>\n",
              "      <th>2</th>\n",
              "      <td>CUT-FLOWERS</td>\n",
              "      <td>FILLERS</td>\n",
              "      <td>58.00</td>\n",
              "      <td>18938.00</td>\n",
              "      <td>01/25/2015 12:00:00 AM</td>\n",
              "    </tr>\n",
              "  </tbody>\n",
              "</table>\n",
              "</div>"
            ],
            "text/plain": [
              "  commodity_type  ...                    date\n",
              "0    CUT-FLOWERS  ...  01/25/2015 12:00:00 AM\n",
              "1    CUT-FLOWERS  ...  01/25/2015 12:00:00 AM\n",
              "2    CUT-FLOWERS  ...  01/25/2015 12:00:00 AM\n",
              "\n",
              "[3 rows x 5 columns]"
            ]
          },
          "metadata": {
            "tags": []
          },
          "execution_count": 96
        }
      ]
    },
    {
      "cell_type": "code",
      "metadata": {
        "id": "VxY7BL-NrST-",
        "colab_type": "code",
        "outputId": "b29e5a21-d638-446b-8e2b-c4d4882480be",
        "colab": {
          "base_uri": "https://localhost:8080/",
          "height": 238
        }
      },
      "source": [
        "# Changing the 'date' column to datetime data type:\n",
        "# \n",
        "dataset_df.date = pd.to_datetime(dataset_df.date)\n",
        "# previewing to check if the change has taken effect:\n",
        "print(dataset_df.info())"
      ],
      "execution_count": 0,
      "outputs": [
        {
          "output_type": "stream",
          "text": [
            "<class 'pandas.core.frame.DataFrame'>\n",
            "Int64Index: 1338 entries, 0 to 1799\n",
            "Data columns (total 5 columns):\n",
            " #   Column                 Non-Null Count  Dtype         \n",
            "---  ------                 --------------  -----         \n",
            " 0   commodity_type         1338 non-null   object        \n",
            " 1   commodity              1338 non-null   object        \n",
            " 2   weight_kgs             1338 non-null   float64       \n",
            " 3   exportgoods_value_kes  1338 non-null   float64       \n",
            " 4   date                   1338 non-null   datetime64[ns]\n",
            "dtypes: datetime64[ns](1), float64(2), object(2)\n",
            "memory usage: 62.7+ KB\n",
            "None\n"
          ],
          "name": "stdout"
        }
      ]
    },
    {
      "cell_type": "code",
      "metadata": {
        "id": "TsPQnIT1tgYw",
        "colab_type": "code",
        "colab": {}
      },
      "source": [
        "# then previewing the FI:\n",
        "dataset_df.head(5)"
      ],
      "execution_count": 0,
      "outputs": []
    },
    {
      "cell_type": "markdown",
      "metadata": {
        "colab_type": "text",
        "id": "2F31O4ScCZ6_"
      },
      "source": [
        "# Performing Data Analysis"
      ]
    },
    {
      "cell_type": "markdown",
      "metadata": {
        "id": "b_MPrV3FDpeQ",
        "colab_type": "text"
      },
      "source": [
        "#### 1.) Type of Commodity with Most Value - Overall"
      ]
    },
    {
      "cell_type": "code",
      "metadata": {
        "colab_type": "code",
        "outputId": "0231bbfd-cbc1-4b79-a5c5-66f009eb381b",
        "id": "vyZ2C5iGCZ7A",
        "colab": {
          "base_uri": "https://localhost:8080/",
          "height": 102
        }
      },
      "source": [
        "# Q1. Which type of commodity had the most value? Monthly? Overall?\n",
        "#\n",
        "dataset_df.groupby(\"commodity_type\")[\"exportgoods_value_kes\"].sum().sort_values(ascending=False).head()\n"
      ],
      "execution_count": 0,
      "outputs": [
        {
          "output_type": "execute_result",
          "data": {
            "text/plain": [
              "commodity_type\n",
              "CUT-FLOWERS   62937532229.00\n",
              "VEGETABLES    20939486522.00\n",
              "FRUITS         6561800699.00\n",
              "Name: exportgoods_value_kes, dtype: float64"
            ]
          },
          "metadata": {
            "tags": []
          },
          "execution_count": 110
        }
      ]
    },
    {
      "cell_type": "markdown",
      "metadata": {
        "id": "RIOFmzphD0zi",
        "colab_type": "text"
      },
      "source": [
        "##### Type of Commodity with Most Value - Monthly"
      ]
    },
    {
      "cell_type": "code",
      "metadata": {
        "colab_type": "code",
        "outputId": "b7940a3c-7c8c-4d13-a57e-58774d4c5d22",
        "id": "YSwaVbauAS_y",
        "colab": {
          "base_uri": "https://localhost:8080/",
          "height": 102
        }
      },
      "source": [
        "#Type of Commodity with the Most value monthly\n",
        "\n",
        "#January\n",
        "dataset_df[dataset_df.date == '2015-01-25'].groupby(\"commodity_type\")[\"exportgoods_value_kes\"].sum().sort_values(ascending=False).head()\n"
      ],
      "execution_count": 0,
      "outputs": [
        {
          "output_type": "execute_result",
          "data": {
            "text/plain": [
              "commodity_type\n",
              "CUT-FLOWERS   4379457175.00\n",
              "VEGETABLES    1556468133.00\n",
              "FRUITS         476818915.00\n",
              "Name: exportgoods_value_kes, dtype: float64"
            ]
          },
          "metadata": {
            "tags": []
          },
          "execution_count": 111
        }
      ]
    },
    {
      "cell_type": "code",
      "metadata": {
        "colab_type": "code",
        "outputId": "d822a3c9-0a2b-4aaa-da40-f9170ed8906f",
        "id": "6CLWXWinAS_8",
        "colab": {
          "base_uri": "https://localhost:8080/",
          "height": 102
        }
      },
      "source": [
        "# February\n",
        "dataset_df[dataset_df.date == '2015-02-25'].groupby(\"commodity_type\")[\"exportgoods_value_kes\"].sum().sort_values(ascending=False).head()\n"
      ],
      "execution_count": 0,
      "outputs": [
        {
          "output_type": "execute_result",
          "data": {
            "text/plain": [
              "commodity_type\n",
              "CUT-FLOWERS   6117176216.00\n",
              "VEGETABLES    1362595322.00\n",
              "FRUITS         412226076.00\n",
              "Name: exportgoods_value_kes, dtype: float64"
            ]
          },
          "metadata": {
            "tags": []
          },
          "execution_count": 112
        }
      ]
    },
    {
      "cell_type": "code",
      "metadata": {
        "colab_type": "code",
        "outputId": "f50ac626-02d4-4775-ba4c-99a43696bc90",
        "id": "JvD9rjSDAS__",
        "colab": {
          "base_uri": "https://localhost:8080/",
          "height": 102
        }
      },
      "source": [
        "# March\n",
        "dataset_df[dataset_df.date == '2015-03-25'].groupby(\"commodity_type\")[\"exportgoods_value_kes\"].sum().sort_values(ascending=False).head()\n"
      ],
      "execution_count": 0,
      "outputs": [
        {
          "output_type": "execute_result",
          "data": {
            "text/plain": [
              "commodity_type\n",
              "CUT-FLOWERS   8515110070.00\n",
              "VEGETABLES    1498625005.00\n",
              "FRUITS         496713543.00\n",
              "Name: exportgoods_value_kes, dtype: float64"
            ]
          },
          "metadata": {
            "tags": []
          },
          "execution_count": 113
        }
      ]
    },
    {
      "cell_type": "code",
      "metadata": {
        "colab_type": "code",
        "outputId": "20e6dd0e-8383-40d8-e73a-ed4c44de6206",
        "id": "bsoI9QFKATAC",
        "colab": {
          "base_uri": "https://localhost:8080/",
          "height": 102
        }
      },
      "source": [
        "# April\n",
        "dataset_df[dataset_df.date == '2015-04-25'].groupby(\"commodity_type\")[\"exportgoods_value_kes\"].sum().sort_values(ascending=False).head()\n"
      ],
      "execution_count": 0,
      "outputs": [
        {
          "output_type": "execute_result",
          "data": {
            "text/plain": [
              "commodity_type\n",
              "CUT-FLOWERS   4303702635.00\n",
              "VEGETABLES    1371449984.00\n",
              "FRUITS         548156580.00\n",
              "Name: exportgoods_value_kes, dtype: float64"
            ]
          },
          "metadata": {
            "tags": []
          },
          "execution_count": 114
        }
      ]
    },
    {
      "cell_type": "code",
      "metadata": {
        "colab_type": "code",
        "outputId": "57c96406-9e84-4f4a-e873-302de3092192",
        "id": "Hq9S3chFATAF",
        "colab": {
          "base_uri": "https://localhost:8080/",
          "height": 102
        }
      },
      "source": [
        "# May\n",
        "dataset_df[dataset_df.date == '2015-05-25'].groupby(\"commodity_type\")[\"exportgoods_value_kes\"].sum().sort_values(ascending=False).head()\n"
      ],
      "execution_count": 0,
      "outputs": [
        {
          "output_type": "execute_result",
          "data": {
            "text/plain": [
              "commodity_type\n",
              "CUT-FLOWERS   4431880530.00\n",
              "VEGETABLES    1431593543.00\n",
              "FRUITS         436241202.00\n",
              "Name: exportgoods_value_kes, dtype: float64"
            ]
          },
          "metadata": {
            "tags": []
          },
          "execution_count": 115
        }
      ]
    },
    {
      "cell_type": "code",
      "metadata": {
        "colab_type": "code",
        "outputId": "49f84435-a5f0-4931-cc7f-c8efbc9a2d6f",
        "id": "upfy3DCaATAH",
        "colab": {
          "base_uri": "https://localhost:8080/",
          "height": 102
        }
      },
      "source": [
        "# June\n",
        "dataset_df[dataset_df.date == '2015-06-25'].groupby(\"commodity_type\")[\"exportgoods_value_kes\"].sum().sort_values(ascending=False).head()\n"
      ],
      "execution_count": 0,
      "outputs": [
        {
          "output_type": "execute_result",
          "data": {
            "text/plain": [
              "commodity_type\n",
              "CUT-FLOWERS   3244356550.00\n",
              "VEGETABLES    1337876435.00\n",
              "FRUITS         557516854.00\n",
              "Name: exportgoods_value_kes, dtype: float64"
            ]
          },
          "metadata": {
            "tags": []
          },
          "execution_count": 116
        }
      ]
    },
    {
      "cell_type": "code",
      "metadata": {
        "colab_type": "code",
        "outputId": "7f47a7c0-625f-49cf-8e51-f3ceb51bb9ac",
        "id": "TKKi16ZTATAK",
        "colab": {
          "base_uri": "https://localhost:8080/",
          "height": 102
        }
      },
      "source": [
        "# July\n",
        "dataset_df[dataset_df.date == '2015-07-25'].groupby(\"commodity_type\")[\"exportgoods_value_kes\"].sum().sort_values(ascending=False).head()\n"
      ],
      "execution_count": 0,
      "outputs": [
        {
          "output_type": "execute_result",
          "data": {
            "text/plain": [
              "commodity_type\n",
              "CUT-FLOWERS   6362960262.00\n",
              "VEGETABLES    1305189772.00\n",
              "FRUITS         882677133.00\n",
              "Name: exportgoods_value_kes, dtype: float64"
            ]
          },
          "metadata": {
            "tags": []
          },
          "execution_count": 117
        }
      ]
    },
    {
      "cell_type": "code",
      "metadata": {
        "colab_type": "code",
        "outputId": "6340439e-9fe6-4ddb-8d4b-d657d587673f",
        "id": "j5OyEUbmATAN",
        "colab": {
          "base_uri": "https://localhost:8080/",
          "height": 102
        }
      },
      "source": [
        "# August\n",
        "dataset_df[dataset_df.date == '2015-08-25'].groupby(\"commodity_type\")[\"exportgoods_value_kes\"].sum().sort_values(ascending=False).head()\n"
      ],
      "execution_count": 0,
      "outputs": [
        {
          "output_type": "execute_result",
          "data": {
            "text/plain": [
              "commodity_type\n",
              "CUT-FLOWERS   3555006584.00\n",
              "VEGETABLES    1655303589.00\n",
              "FRUITS         613494599.00\n",
              "Name: exportgoods_value_kes, dtype: float64"
            ]
          },
          "metadata": {
            "tags": []
          },
          "execution_count": 118
        }
      ]
    },
    {
      "cell_type": "code",
      "metadata": {
        "colab_type": "code",
        "outputId": "bf0c38db-8f0d-4e51-eb36-91eaf25d88d9",
        "id": "R9TgvFdyATAR",
        "colab": {
          "base_uri": "https://localhost:8080/",
          "height": 102
        }
      },
      "source": [
        "# September\n",
        "dataset_df[dataset_df.date == '2015-09-25'].groupby(\"commodity_type\")[\"exportgoods_value_kes\"].sum().sort_values(ascending=False).head()\n"
      ],
      "execution_count": 0,
      "outputs": [
        {
          "output_type": "execute_result",
          "data": {
            "text/plain": [
              "commodity_type\n",
              "CUT-FLOWERS   4577574390.00\n",
              "VEGETABLES    2985896260.00\n",
              "FRUITS         623853281.00\n",
              "Name: exportgoods_value_kes, dtype: float64"
            ]
          },
          "metadata": {
            "tags": []
          },
          "execution_count": 119
        }
      ]
    },
    {
      "cell_type": "code",
      "metadata": {
        "colab_type": "code",
        "outputId": "9475f131-eedb-4c55-e2dc-0cafc051daaf",
        "id": "ch0gher4ATAU",
        "colab": {
          "base_uri": "https://localhost:8080/",
          "height": 102
        }
      },
      "source": [
        "# October\n",
        "dataset_df[dataset_df.date == '2015-10-25'].groupby(\"commodity_type\")[\"exportgoods_value_kes\"].sum().sort_values(ascending=False).head()\n"
      ],
      "execution_count": 0,
      "outputs": [
        {
          "output_type": "execute_result",
          "data": {
            "text/plain": [
              "commodity_type\n",
              "CUT-FLOWERS   7143885158.00\n",
              "VEGETABLES    2283569945.00\n",
              "FRUITS         477008850.00\n",
              "Name: exportgoods_value_kes, dtype: float64"
            ]
          },
          "metadata": {
            "tags": []
          },
          "execution_count": 120
        }
      ]
    },
    {
      "cell_type": "code",
      "metadata": {
        "colab_type": "code",
        "outputId": "69517e96-00f2-4d1c-959a-07cd2d0c846b",
        "id": "eILbGi12ATAW",
        "colab": {
          "base_uri": "https://localhost:8080/",
          "height": 102
        }
      },
      "source": [
        "# November\n",
        "dataset_df[dataset_df.date == '2015-11-25'].groupby(\"commodity_type\")[\"exportgoods_value_kes\"].sum().sort_values(ascending=False).head()\n"
      ],
      "execution_count": 0,
      "outputs": [
        {
          "output_type": "execute_result",
          "data": {
            "text/plain": [
              "commodity_type\n",
              "CUT-FLOWERS   5520026214.00\n",
              "VEGETABLES    2129591192.00\n",
              "FRUITS         445382473.00\n",
              "Name: exportgoods_value_kes, dtype: float64"
            ]
          },
          "metadata": {
            "tags": []
          },
          "execution_count": 121
        }
      ]
    },
    {
      "cell_type": "code",
      "metadata": {
        "colab_type": "code",
        "outputId": "de4f1809-e819-4e3e-c85b-87cf79cf39d1",
        "id": "_YxByYwhATAZ",
        "colab": {
          "base_uri": "https://localhost:8080/",
          "height": 102
        }
      },
      "source": [
        "# December\n",
        "dataset_df[dataset_df.date == '2015-12-25'].groupby(\"commodity_type\")[\"exportgoods_value_kes\"].sum().sort_values(ascending=False).head()\n"
      ],
      "execution_count": 0,
      "outputs": [
        {
          "output_type": "execute_result",
          "data": {
            "text/plain": [
              "commodity_type\n",
              "CUT-FLOWERS   4786396445.00\n",
              "VEGETABLES    2021327342.00\n",
              "FRUITS         591711193.00\n",
              "Name: exportgoods_value_kes, dtype: float64"
            ]
          },
          "metadata": {
            "tags": []
          },
          "execution_count": 122
        }
      ]
    },
    {
      "cell_type": "markdown",
      "metadata": {
        "id": "Q9RPjReuD8Dj",
        "colab_type": "text"
      },
      "source": [
        "#### 2.) Type of Commodity with Least Value - Overall"
      ]
    },
    {
      "cell_type": "code",
      "metadata": {
        "colab_type": "code",
        "outputId": "7026af1c-9d5b-4e99-ec43-40f917a198fa",
        "id": "Rvf_2Z1xCZ7d",
        "colab": {
          "base_uri": "https://localhost:8080/",
          "height": 102
        }
      },
      "source": [
        "# Q2. Which type of commodity had the least value? Monthly? Overall?\n",
        "\n",
        "#Type of Commodity with least value overall\n",
        "dataset_df.groupby(\"commodity_type\")[\"exportgoods_value_kes\"].sum().sort_values(ascending=True).head()\n"
      ],
      "execution_count": 0,
      "outputs": [
        {
          "output_type": "execute_result",
          "data": {
            "text/plain": [
              "commodity_type\n",
              "FRUITS         6561800699.00\n",
              "VEGETABLES    20939486522.00\n",
              "CUT-FLOWERS   62937532229.00\n",
              "Name: exportgoods_value_kes, dtype: float64"
            ]
          },
          "metadata": {
            "tags": []
          },
          "execution_count": 123
        }
      ]
    },
    {
      "cell_type": "markdown",
      "metadata": {
        "id": "Gz9Es0DWEAK3",
        "colab_type": "text"
      },
      "source": [
        "##### Type of Commodity with Least Value - Monthly"
      ]
    },
    {
      "cell_type": "code",
      "metadata": {
        "colab_type": "code",
        "outputId": "ad1564ff-9c14-4ac2-d446-2b7e8e2f1020",
        "id": "FRyezRWHCZ7f",
        "colab": {
          "base_uri": "https://localhost:8080/",
          "height": 102
        }
      },
      "source": [
        "#Type of Commodity with the least value monthly\n",
        "\n",
        "#January\n",
        "dataset_df[dataset_df.date == '2015-01-25'].groupby(\"commodity_type\")[\"exportgoods_value_kes\"].sum().sort_values(ascending=True).head()\n"
      ],
      "execution_count": 0,
      "outputs": [
        {
          "output_type": "execute_result",
          "data": {
            "text/plain": [
              "commodity_type\n",
              "FRUITS         476818915.00\n",
              "VEGETABLES    1556468133.00\n",
              "CUT-FLOWERS   4379457175.00\n",
              "Name: exportgoods_value_kes, dtype: float64"
            ]
          },
          "metadata": {
            "tags": []
          },
          "execution_count": 124
        }
      ]
    },
    {
      "cell_type": "code",
      "metadata": {
        "colab_type": "code",
        "outputId": "80e0dc3c-4b17-4a25-fe2a-bf3d6545017a",
        "id": "Q478mtM2CZ7h",
        "colab": {
          "base_uri": "https://localhost:8080/",
          "height": 102
        }
      },
      "source": [
        "# February\n",
        "dataset_df[dataset_df.date == '2015-02-25'].groupby(\"commodity_type\")[\"exportgoods_value_kes\"].sum().sort_values(ascending=True).head()\n"
      ],
      "execution_count": 0,
      "outputs": [
        {
          "output_type": "execute_result",
          "data": {
            "text/plain": [
              "commodity_type\n",
              "FRUITS         412226076.00\n",
              "VEGETABLES    1362595322.00\n",
              "CUT-FLOWERS   6117176216.00\n",
              "Name: exportgoods_value_kes, dtype: float64"
            ]
          },
          "metadata": {
            "tags": []
          },
          "execution_count": 125
        }
      ]
    },
    {
      "cell_type": "code",
      "metadata": {
        "colab_type": "code",
        "outputId": "344c3b63-6930-4f86-accd-2aae979c45f5",
        "id": "MjP-01RjCZ7i",
        "colab": {
          "base_uri": "https://localhost:8080/",
          "height": 102
        }
      },
      "source": [
        "# March\n",
        "dataset_df[dataset_df.date == '2015-03-25'].groupby(\"commodity_type\")[\"exportgoods_value_kes\"].sum().sort_values(ascending=True).head()\n"
      ],
      "execution_count": 0,
      "outputs": [
        {
          "output_type": "execute_result",
          "data": {
            "text/plain": [
              "commodity_type\n",
              "FRUITS         496713543.00\n",
              "VEGETABLES    1498625005.00\n",
              "CUT-FLOWERS   8515110070.00\n",
              "Name: exportgoods_value_kes, dtype: float64"
            ]
          },
          "metadata": {
            "tags": []
          },
          "execution_count": 126
        }
      ]
    },
    {
      "cell_type": "code",
      "metadata": {
        "colab_type": "code",
        "outputId": "dc7f705b-78e2-4f06-ed9f-bd29b6c337b8",
        "id": "E4Jq90sQCZ7k",
        "colab": {
          "base_uri": "https://localhost:8080/",
          "height": 102
        }
      },
      "source": [
        "# April\n",
        "dataset_df[dataset_df.date == '2015-04-25'].groupby(\"commodity_type\")[\"exportgoods_value_kes\"].sum().sort_values(ascending=True).head()\n"
      ],
      "execution_count": 0,
      "outputs": [
        {
          "output_type": "execute_result",
          "data": {
            "text/plain": [
              "commodity_type\n",
              "FRUITS         548156580.00\n",
              "VEGETABLES    1371449984.00\n",
              "CUT-FLOWERS   4303702635.00\n",
              "Name: exportgoods_value_kes, dtype: float64"
            ]
          },
          "metadata": {
            "tags": []
          },
          "execution_count": 127
        }
      ]
    },
    {
      "cell_type": "code",
      "metadata": {
        "colab_type": "code",
        "outputId": "e8af94bf-7eac-4a84-8f10-621959626cc4",
        "id": "wPdJ-gGiCZ7m",
        "colab": {
          "base_uri": "https://localhost:8080/",
          "height": 102
        }
      },
      "source": [
        "# May\n",
        "dataset_df[dataset_df.date == '2015-05-25'].groupby(\"commodity_type\")[\"exportgoods_value_kes\"].sum().sort_values(ascending=True).head()\n"
      ],
      "execution_count": 0,
      "outputs": [
        {
          "output_type": "execute_result",
          "data": {
            "text/plain": [
              "commodity_type\n",
              "FRUITS         436241202.00\n",
              "VEGETABLES    1431593543.00\n",
              "CUT-FLOWERS   4431880530.00\n",
              "Name: exportgoods_value_kes, dtype: float64"
            ]
          },
          "metadata": {
            "tags": []
          },
          "execution_count": 128
        }
      ]
    },
    {
      "cell_type": "code",
      "metadata": {
        "colab_type": "code",
        "outputId": "48fbcf01-4d2b-490b-dbb5-b205f58b9d8d",
        "id": "N_UJxDwKCZ7o",
        "colab": {
          "base_uri": "https://localhost:8080/",
          "height": 102
        }
      },
      "source": [
        "# June\n",
        "dataset_df[dataset_df.date == '2015-06-25'].groupby(\"commodity_type\")[\"exportgoods_value_kes\"].sum().sort_values(ascending=True).head()\n"
      ],
      "execution_count": 0,
      "outputs": [
        {
          "output_type": "execute_result",
          "data": {
            "text/plain": [
              "commodity_type\n",
              "FRUITS         557516854.00\n",
              "VEGETABLES    1337876435.00\n",
              "CUT-FLOWERS   3244356550.00\n",
              "Name: exportgoods_value_kes, dtype: float64"
            ]
          },
          "metadata": {
            "tags": []
          },
          "execution_count": 129
        }
      ]
    },
    {
      "cell_type": "code",
      "metadata": {
        "colab_type": "code",
        "outputId": "5c5fae7a-5ee1-4464-9e06-31b3fba794ed",
        "id": "bjatSuOoCZ7p",
        "colab": {
          "base_uri": "https://localhost:8080/",
          "height": 102
        }
      },
      "source": [
        "# July\n",
        "dataset_df[dataset_df.date == '2015-07-25'].groupby(\"commodity_type\")[\"exportgoods_value_kes\"].sum().sort_values(ascending=True).head()\n"
      ],
      "execution_count": 0,
      "outputs": [
        {
          "output_type": "execute_result",
          "data": {
            "text/plain": [
              "commodity_type\n",
              "FRUITS         882677133.00\n",
              "VEGETABLES    1305189772.00\n",
              "CUT-FLOWERS   6362960262.00\n",
              "Name: exportgoods_value_kes, dtype: float64"
            ]
          },
          "metadata": {
            "tags": []
          },
          "execution_count": 130
        }
      ]
    },
    {
      "cell_type": "code",
      "metadata": {
        "colab_type": "code",
        "outputId": "15e2a64f-3a83-4ea2-dbeb-8d52ffd9f02f",
        "id": "AIPSLkDECZ7x",
        "colab": {
          "base_uri": "https://localhost:8080/",
          "height": 102
        }
      },
      "source": [
        "# August\n",
        "dataset_df[dataset_df.date == '2015-08-25'].groupby(\"commodity_type\")[\"exportgoods_value_kes\"].sum().sort_values(ascending=True).head()\n"
      ],
      "execution_count": 0,
      "outputs": [
        {
          "output_type": "execute_result",
          "data": {
            "text/plain": [
              "commodity_type\n",
              "FRUITS         613494599.00\n",
              "VEGETABLES    1655303589.00\n",
              "CUT-FLOWERS   3555006584.00\n",
              "Name: exportgoods_value_kes, dtype: float64"
            ]
          },
          "metadata": {
            "tags": []
          },
          "execution_count": 131
        }
      ]
    },
    {
      "cell_type": "code",
      "metadata": {
        "colab_type": "code",
        "outputId": "d1afc5a6-019c-4de3-a10b-18fe914924b9",
        "id": "7FnpGfyJCZ70",
        "colab": {
          "base_uri": "https://localhost:8080/",
          "height": 102
        }
      },
      "source": [
        "# September\n",
        "dataset_df[dataset_df.date == '2015-09-25'].groupby(\"commodity_type\")[\"exportgoods_value_kes\"].sum().sort_values(ascending=True).head()\n"
      ],
      "execution_count": 0,
      "outputs": [
        {
          "output_type": "execute_result",
          "data": {
            "text/plain": [
              "commodity_type\n",
              "FRUITS         623853281.00\n",
              "VEGETABLES    2985896260.00\n",
              "CUT-FLOWERS   4577574390.00\n",
              "Name: exportgoods_value_kes, dtype: float64"
            ]
          },
          "metadata": {
            "tags": []
          },
          "execution_count": 132
        }
      ]
    },
    {
      "cell_type": "code",
      "metadata": {
        "colab_type": "code",
        "outputId": "f0876f8f-ec25-45c1-b57f-f8a9570b706c",
        "id": "i-2lOKWGCZ72",
        "colab": {
          "base_uri": "https://localhost:8080/",
          "height": 102
        }
      },
      "source": [
        "# October\n",
        "dataset_df[dataset_df.date == '2015-10-25'].groupby(\"commodity_type\")[\"exportgoods_value_kes\"].sum().sort_values(ascending=True).head()\n"
      ],
      "execution_count": 0,
      "outputs": [
        {
          "output_type": "execute_result",
          "data": {
            "text/plain": [
              "commodity_type\n",
              "FRUITS         477008850.00\n",
              "VEGETABLES    2283569945.00\n",
              "CUT-FLOWERS   7143885158.00\n",
              "Name: exportgoods_value_kes, dtype: float64"
            ]
          },
          "metadata": {
            "tags": []
          },
          "execution_count": 133
        }
      ]
    },
    {
      "cell_type": "code",
      "metadata": {
        "colab_type": "code",
        "outputId": "01644eaa-7139-4305-caa2-fa1d70f4dae1",
        "id": "KVbArr1lCZ73",
        "colab": {
          "base_uri": "https://localhost:8080/",
          "height": 102
        }
      },
      "source": [
        "# November\n",
        "dataset_df[dataset_df.date == '2015-11-25'].groupby(\"commodity_type\")[\"exportgoods_value_kes\"].sum().sort_values(ascending=True).head()\n"
      ],
      "execution_count": 0,
      "outputs": [
        {
          "output_type": "execute_result",
          "data": {
            "text/plain": [
              "commodity_type\n",
              "FRUITS         445382473.00\n",
              "VEGETABLES    2129591192.00\n",
              "CUT-FLOWERS   5520026214.00\n",
              "Name: exportgoods_value_kes, dtype: float64"
            ]
          },
          "metadata": {
            "tags": []
          },
          "execution_count": 134
        }
      ]
    },
    {
      "cell_type": "code",
      "metadata": {
        "colab_type": "code",
        "outputId": "2625bf54-46c4-47eb-a659-2659721cfddc",
        "id": "ByFn_HkSCZ75",
        "colab": {
          "base_uri": "https://localhost:8080/",
          "height": 102
        }
      },
      "source": [
        "# December\n",
        "dataset_df[dataset_df.date == '2015-12-25'].groupby(\"commodity_type\")[\"exportgoods_value_kes\"].sum().sort_values(ascending=True).head()\n"
      ],
      "execution_count": 0,
      "outputs": [
        {
          "output_type": "execute_result",
          "data": {
            "text/plain": [
              "commodity_type\n",
              "FRUITS         591711193.00\n",
              "VEGETABLES    2021327342.00\n",
              "CUT-FLOWERS   4786396445.00\n",
              "Name: exportgoods_value_kes, dtype: float64"
            ]
          },
          "metadata": {
            "tags": []
          },
          "execution_count": 135
        }
      ]
    },
    {
      "cell_type": "markdown",
      "metadata": {
        "id": "i4wNsOLaEDw6",
        "colab_type": "text"
      },
      "source": [
        "#### 3.) Type of Cut-Flowers with Most Value - Overall"
      ]
    },
    {
      "cell_type": "code",
      "metadata": {
        "colab_type": "code",
        "outputId": "97303ad8-6e05-46be-ff83-d5a2fd4a12a7",
        "id": "HeFTTiVVCZ78",
        "colab": {
          "base_uri": "https://localhost:8080/",
          "height": 417
        }
      },
      "source": [
        "# Q3. Which type of cut-flowers had the most value? Monthly? Overall?\n",
        "# Overall?\n",
        "flower_plot = dataset_df[dataset_df.commodity_type == 'CUT-FLOWERS'].groupby('commodity')['exportgoods_value_kes'].sum().sort_values(ascending=False).head()\n",
        "flower_plot.plot.bar()"
      ],
      "execution_count": 0,
      "outputs": [
        {
          "output_type": "execute_result",
          "data": {
            "text/plain": [
              "<matplotlib.axes._subplots.AxesSubplot at 0x7fbb0900cf28>"
            ]
          },
          "metadata": {
            "tags": []
          },
          "execution_count": 20
        },
        {
          "output_type": "display_data",
          "data": {
            "image/png": "[encoded data removed]",
            "text/plain": [
              "<Figure size 432x288 with 1 Axes>"
            ]
          },
          "metadata": {
            "tags": [],
            "needs_background": "light"
          }
        }
      ]
    },
    {
      "cell_type": "markdown",
      "metadata": {
        "id": "ZRYAvSjbELmn",
        "colab_type": "text"
      },
      "source": [
        "##### Type of Cut-Flowers with Most Value - Monthly"
      ]
    },
    {
      "cell_type": "code",
      "metadata": {
        "colab_type": "code",
        "outputId": "76bb6acb-999e-406d-ff3a-48b41072859d",
        "id": "aIHpXYFNCZ79",
        "colab": {
          "base_uri": "https://localhost:8080/",
          "height": 136
        }
      },
      "source": [
        "# Monthly? \n",
        "\n",
        "# January\n",
        "Cut_Flowers = dataset_df['commodity_type'] == 'CUT-FLOWERS'\n",
        "Jan_Month = dataset_df['date'] == '2015-01-25'\n",
        "dataset_df[Cut_Flowers & Jan_Month].groupby('commodity')['exportgoods_value_kes'].sum().sort_values(ascending=False).head()"
      ],
      "execution_count": 0,
      "outputs": [
        {
          "output_type": "execute_result",
          "data": {
            "text/plain": [
              "commodity\n",
              "ROSES                  3185700257.00\n",
              "CUTTINGS                383187389.00\n",
              "GERANIUM CUTTINGS       313812245.00\n",
              "MIXED FLOWERS            93280473.00\n",
              "CARNATION / DIANTHUS     60272520.00\n",
              "Name: exportgoods_value_kes, dtype: float64"
            ]
          },
          "metadata": {
            "tags": []
          },
          "execution_count": 137
        }
      ]
    },
    {
      "cell_type": "code",
      "metadata": {
        "id": "bBop2riv7iqS",
        "colab_type": "code",
        "outputId": "0b3db902-9104-4d95-d6ff-5c13f05232fa",
        "colab": {
          "base_uri": "https://localhost:8080/",
          "height": 136
        }
      },
      "source": [
        "# February\n",
        "Cut_Flowers = dataset_df['commodity_type'] == 'CUT-FLOWERS'\n",
        "Feb_Month = dataset_df['date'] == '2015-02-25'\n",
        "dataset_df[Cut_Flowers & Feb_Month].groupby('commodity')['exportgoods_value_kes'].sum().sort_values(ascending=False).head()"
      ],
      "execution_count": 0,
      "outputs": [
        {
          "output_type": "execute_result",
          "data": {
            "text/plain": [
              "commodity\n",
              "ROSES                         4838506443.00\n",
              "CUTTINGS                       601461877.00\n",
              "CARNATION / DIANTHUS           148458602.00\n",
              "MIXED FLOWERS                   76959520.00\n",
              "GYPSOPHILLA / MILLION STARS     59156258.00\n",
              "Name: exportgoods_value_kes, dtype: float64"
            ]
          },
          "metadata": {
            "tags": []
          },
          "execution_count": 138
        }
      ]
    },
    {
      "cell_type": "code",
      "metadata": {
        "id": "LOcv6ZgH7r5n",
        "colab_type": "code",
        "outputId": "25f2cc60-754a-42bf-c840-855737a40296",
        "colab": {
          "base_uri": "https://localhost:8080/",
          "height": 136
        }
      },
      "source": [
        "# March\n",
        "Cut_Flowers = dataset_df['commodity_type'] == 'CUT-FLOWERS'\n",
        "Mar_Month = dataset_df['date'] == '2015-03-25'\n",
        "dataset_df[Cut_Flowers & Mar_Month].groupby('commodity')['exportgoods_value_kes'].sum().sort_values(ascending=False).head()"
      ],
      "execution_count": 0,
      "outputs": [
        {
          "output_type": "execute_result",
          "data": {
            "text/plain": [
              "commodity\n",
              "ROSES                  5231748979.00\n",
              "GERANIUM CUTTINGS      1291615579.00\n",
              "CARNATION / DIANTHUS    637112137.00\n",
              "CUTTINGS                469551985.00\n",
              "HYPERICUM               169386374.00\n",
              "Name: exportgoods_value_kes, dtype: float64"
            ]
          },
          "metadata": {
            "tags": []
          },
          "execution_count": 139
        }
      ]
    },
    {
      "cell_type": "code",
      "metadata": {
        "id": "z3rGqo4j72Am",
        "colab_type": "code",
        "outputId": "6f4b064a-63cc-473b-e653-d96583a74c03",
        "colab": {
          "base_uri": "https://localhost:8080/",
          "height": 136
        }
      },
      "source": [
        "# April\n",
        "Cut_Flowers = dataset_df['commodity_type'] == 'CUT-FLOWERS'\n",
        "Apr_Month = dataset_df['date'] == '2015-04-25'\n",
        "dataset_df[Cut_Flowers & Apr_Month].groupby('commodity')['exportgoods_value_kes'].sum().sort_values(ascending=False).head()"
      ],
      "execution_count": 0,
      "outputs": [
        {
          "output_type": "execute_result",
          "data": {
            "text/plain": [
              "commodity\n",
              "ROSES                         3502295002.00\n",
              "CUTTINGS                       272541229.00\n",
              "CARNATION / DIANTHUS            86503014.00\n",
              "MIXED FLOWERS                   80947599.00\n",
              "GYPSOPHILLA / MILLION STARS     55487387.00\n",
              "Name: exportgoods_value_kes, dtype: float64"
            ]
          },
          "metadata": {
            "tags": []
          },
          "execution_count": 140
        }
      ]
    },
    {
      "cell_type": "code",
      "metadata": {
        "id": "RLtUG7_K7-ZO",
        "colab_type": "code",
        "outputId": "6a5f35b4-c656-42dd-a02b-892d7cdfdce8",
        "colab": {
          "base_uri": "https://localhost:8080/",
          "height": 136
        }
      },
      "source": [
        "# May\n",
        "Cut_Flowers = dataset_df['commodity_type'] == 'CUT-FLOWERS'\n",
        "May_Month = dataset_df['date'] == '2015-05-25'\n",
        "dataset_df[Cut_Flowers & May_Month].groupby('commodity')['exportgoods_value_kes'].sum().sort_values(ascending=False).head()"
      ],
      "execution_count": 0,
      "outputs": [
        {
          "output_type": "execute_result",
          "data": {
            "text/plain": [
              "commodity\n",
              "ROSES                     3531459457.00\n",
              "CUTTINGS                   218040101.00\n",
              "CHRYSANTHEMUMS CUTTINGS    128035889.00\n",
              "MIXED FLOWERS              120510340.00\n",
              "CARNATION / DIANTHUS       104119340.00\n",
              "Name: exportgoods_value_kes, dtype: float64"
            ]
          },
          "metadata": {
            "tags": []
          },
          "execution_count": 141
        }
      ]
    },
    {
      "cell_type": "code",
      "metadata": {
        "id": "JyznItSB8GBp",
        "colab_type": "code",
        "outputId": "994bb5ab-10f0-43e4-caa7-014adb8e5613",
        "colab": {
          "base_uri": "https://localhost:8080/",
          "height": 136
        }
      },
      "source": [
        "# June\n",
        "Cut_Flowers = dataset_df['commodity_type'] == 'CUT-FLOWERS'\n",
        "June_Month = dataset_df['date'] == '2015-06-25'\n",
        "dataset_df[Cut_Flowers & June_Month].groupby('commodity')['exportgoods_value_kes'].sum().sort_values(ascending=False).head()"
      ],
      "execution_count": 0,
      "outputs": [
        {
          "output_type": "execute_result",
          "data": {
            "text/plain": [
              "commodity\n",
              "ROSES                  2296263903.00\n",
              "CUTTINGS                471479898.00\n",
              "CARNATION / DIANTHUS    137816679.00\n",
              "MIXED FLOWERS           111306761.00\n",
              "SOLIDAGO                 38191398.00\n",
              "Name: exportgoods_value_kes, dtype: float64"
            ]
          },
          "metadata": {
            "tags": []
          },
          "execution_count": 142
        }
      ]
    },
    {
      "cell_type": "code",
      "metadata": {
        "id": "Y9R7JXtS8LDS",
        "colab_type": "code",
        "outputId": "b6f49aff-b69d-4e65-dcab-cde25e11cc74",
        "colab": {
          "base_uri": "https://localhost:8080/",
          "height": 136
        }
      },
      "source": [
        "# July\n",
        "Cut_Flowers = dataset_df['commodity_type'] == 'CUT-FLOWERS'\n",
        "July_Month = dataset_df['date'] == '2015-07-25'\n",
        "dataset_df[Cut_Flowers & July_Month].groupby('commodity')['exportgoods_value_kes'].sum().sort_values(ascending=False).head()"
      ],
      "execution_count": 0,
      "outputs": [
        {
          "output_type": "execute_result",
          "data": {
            "text/plain": [
              "commodity\n",
              "CUTTINGS                      3437979029.00\n",
              "ROSES                         2512009009.00\n",
              "CARNATION / DIANTHUS            85015130.00\n",
              "MIXED FLOWERS                   84556906.00\n",
              "GYPSOPHILLA / MILLION STARS     41486424.00\n",
              "Name: exportgoods_value_kes, dtype: float64"
            ]
          },
          "metadata": {
            "tags": []
          },
          "execution_count": 143
        }
      ]
    },
    {
      "cell_type": "code",
      "metadata": {
        "id": "fAyv7QFt8RXP",
        "colab_type": "code",
        "outputId": "c09f258c-3a37-4e9c-f291-4ae42f322379",
        "colab": {
          "base_uri": "https://localhost:8080/",
          "height": 136
        }
      },
      "source": [
        "# August\n",
        "Cut_Flowers = dataset_df['commodity_type'] == 'CUT-FLOWERS'\n",
        "Aug_Month = dataset_df['date'] == '2015-08-25'\n",
        "dataset_df[Cut_Flowers & Aug_Month].groupby('commodity')['exportgoods_value_kes'].sum().sort_values(ascending=False).head()"
      ],
      "execution_count": 0,
      "outputs": [
        {
          "output_type": "execute_result",
          "data": {
            "text/plain": [
              "commodity\n",
              "ROSES                         2508429125.00\n",
              "CUTTINGS                       570021667.00\n",
              "MIXED FLOWERS                  131217074.00\n",
              "CARNATION / DIANTHUS            92260332.00\n",
              "GYPSOPHILLA / MILLION STARS     44715249.00\n",
              "Name: exportgoods_value_kes, dtype: float64"
            ]
          },
          "metadata": {
            "tags": []
          },
          "execution_count": 144
        }
      ]
    },
    {
      "cell_type": "code",
      "metadata": {
        "id": "qQ8KInCN8Wm2",
        "colab_type": "code",
        "outputId": "b0f1b5cc-f717-48fd-8ddc-27497eec17bd",
        "colab": {
          "base_uri": "https://localhost:8080/",
          "height": 136
        }
      },
      "source": [
        "# September\n",
        "Cut_Flowers = dataset_df['commodity_type'] == 'CUT-FLOWERS'\n",
        "Sept_Month = dataset_df['date'] == '2015-09-25'\n",
        "dataset_df[Cut_Flowers & Sept_Month].groupby('commodity')['exportgoods_value_kes'].sum().sort_values(ascending=False).head()"
      ],
      "execution_count": 0,
      "outputs": [
        {
          "output_type": "execute_result",
          "data": {
            "text/plain": [
              "commodity\n",
              "ROSES                         3393323056.00\n",
              "CUTTINGS                       385422509.00\n",
              "MIXED FLOWERS                  381526746.00\n",
              "CARNATION / DIANTHUS           121182867.00\n",
              "GYPSOPHILLA / MILLION STARS     44015078.00\n",
              "Name: exportgoods_value_kes, dtype: float64"
            ]
          },
          "metadata": {
            "tags": []
          },
          "execution_count": 145
        }
      ]
    },
    {
      "cell_type": "code",
      "metadata": {
        "id": "hUgTqBHc8bQ9",
        "colab_type": "code",
        "outputId": "3330dce2-92f7-49ed-8114-0845d83db891",
        "colab": {
          "base_uri": "https://localhost:8080/",
          "height": 136
        }
      },
      "source": [
        "# October\n",
        "Cut_Flowers = dataset_df['commodity_type'] == 'CUT-FLOWERS'\n",
        "Oct_Month = dataset_df['date'] == '2015-10-25'\n",
        "dataset_df[Cut_Flowers & Oct_Month].groupby('commodity')['exportgoods_value_kes'].sum().sort_values(ascending=False).head()"
      ],
      "execution_count": 0,
      "outputs": [
        {
          "output_type": "execute_result",
          "data": {
            "text/plain": [
              "commodity\n",
              "ROSES                  5715510707.00\n",
              "CUTTINGS                440323753.00\n",
              "GERANIUM CUTTINGS       265013924.00\n",
              "MIXED FLOWERS           208467207.00\n",
              "CARNATION / DIANTHUS    136222644.00\n",
              "Name: exportgoods_value_kes, dtype: float64"
            ]
          },
          "metadata": {
            "tags": []
          },
          "execution_count": 146
        }
      ]
    },
    {
      "cell_type": "code",
      "metadata": {
        "id": "LTieH0e78ihc",
        "colab_type": "code",
        "outputId": "e2c73ede-2b35-49bc-e323-3ae869d8701e",
        "colab": {
          "base_uri": "https://localhost:8080/",
          "height": 136
        }
      },
      "source": [
        "# November\n",
        "Cut_Flowers = dataset_df['commodity_type'] == 'CUT-FLOWERS'\n",
        "Nov_Month = dataset_df['date'] == '2015-11-25'\n",
        "dataset_df[Cut_Flowers & Nov_Month].groupby('commodity')['exportgoods_value_kes'].sum().sort_values(ascending=False).head()"
      ],
      "execution_count": 0,
      "outputs": [
        {
          "output_type": "execute_result",
          "data": {
            "text/plain": [
              "commodity\n",
              "ROSES                  3185700257.00\n",
              "CUTTINGS                383187389.00\n",
              "GERANIUM CUTTINGS       313812245.00\n",
              "MIXED FLOWERS            93280473.00\n",
              "CARNATION / DIANTHUS     60272520.00\n",
              "Name: exportgoods_value_kes, dtype: float64"
            ]
          },
          "metadata": {
            "tags": []
          },
          "execution_count": 147
        }
      ]
    },
    {
      "cell_type": "code",
      "metadata": {
        "id": "3Lehucap9l7h",
        "colab_type": "code",
        "outputId": "d9d3c235-143e-4814-d14b-c807185d07e9",
        "colab": {
          "base_uri": "https://localhost:8080/",
          "height": 136
        }
      },
      "source": [
        "# December\n",
        "Cut_Flowers = dataset_df['commodity_type'] == 'CUT-FLOWERS'\n",
        "Dec_Month = dataset_df['date'] == '2015-12-25'\n",
        "dataset_df[Cut_Flowers & Dec_Month].groupby('commodity')['exportgoods_value_kes'].sum().sort_values(ascending=False).head()"
      ],
      "execution_count": 0,
      "outputs": [
        {
          "output_type": "execute_result",
          "data": {
            "text/plain": [
              "commodity\n",
              "ROSES                  3400301890.00\n",
              "CUTTINGS                690988252.00\n",
              "MIXED FLOWERS           173219304.00\n",
              "CARNATION / DIANTHUS    158698789.00\n",
              "HYPERICUM                79831311.00\n",
              "Name: exportgoods_value_kes, dtype: float64"
            ]
          },
          "metadata": {
            "tags": []
          },
          "execution_count": 148
        }
      ]
    },
    {
      "cell_type": "markdown",
      "metadata": {
        "id": "nTYANMacEXJn",
        "colab_type": "text"
      },
      "source": [
        "#### 4.) Type of Vegetables with Most Value - Overall"
      ]
    },
    {
      "cell_type": "code",
      "metadata": {
        "colab_type": "code",
        "outputId": "29aa1c71-df21-46b7-e386-f436373b3d1f",
        "id": "uEZrUQHjCZ8n",
        "colab": {
          "base_uri": "https://localhost:8080/",
          "height": 397
        }
      },
      "source": [
        "# Q4. Which type of Vegetables had the most value overall?\n",
        "veg_plot = dataset_df[dataset_df.commodity_type == 'VEGETABLES'].groupby('commodity')['exportgoods_value_kes'].sum().sort_values(ascending=False).head()\n",
        "veg_plot.plot.bar()"
      ],
      "execution_count": 0,
      "outputs": [
        {
          "output_type": "execute_result",
          "data": {
            "text/plain": [
              "<matplotlib.axes._subplots.AxesSubplot at 0x7fbb08f4fbe0>"
            ]
          },
          "metadata": {
            "tags": []
          },
          "execution_count": 21
        },
        {
          "output_type": "display_data",
          "data": {
            "image/png": "[encoded data removed]",
            "text/plain": [
              "<Figure size 432x288 with 1 Axes>"
            ]
          },
          "metadata": {
            "tags": [],
            "needs_background": "light"
          }
        }
      ]
    },
    {
      "cell_type": "markdown",
      "metadata": {
        "colab_type": "text",
        "id": "lbTOhnJyCZ8p"
      },
      "source": [
        "Mixed Vegetables had the most overall value."
      ]
    },
    {
      "cell_type": "markdown",
      "metadata": {
        "id": "o5im4O_aEfNG",
        "colab_type": "text"
      },
      "source": [
        "##### Type of Vegetables with Most Value - Monthly"
      ]
    },
    {
      "cell_type": "code",
      "metadata": {
        "colab_type": "code",
        "outputId": "edab2ef3-1b7e-4911-f2b6-863ffa042bec",
        "id": "FicC39ehCZ8p",
        "colab": {
          "base_uri": "https://localhost:8080/",
          "height": 136
        }
      },
      "source": [
        "# Vegetables with most value Monthly:\n",
        "# January\n",
        "\n",
        "Vegetables = dataset_df['commodity_type'] == 'VEGETABLES'\n",
        "Jan_Month = dataset_df['date'] == '2015-01-25'\n",
        "dataset_df[Vegetables & Jan_Month].groupby('commodity')['exportgoods_value_kes'].sum().sort_values(ascending=False).head()"
      ],
      "execution_count": 0,
      "outputs": [
        {
          "output_type": "execute_result",
          "data": {
            "text/plain": [
              "commodity\n",
              "MIXED VEGETABLES   729606484.00\n",
              "FINE BEANS         418457153.00\n",
              "BEAN PROCESSED      98785065.00\n",
              "HERBS               66894102.00\n",
              "SNOW/MANGETOUT      60253060.00\n",
              "Name: exportgoods_value_kes, dtype: float64"
            ]
          },
          "metadata": {
            "tags": []
          },
          "execution_count": 150
        }
      ]
    },
    {
      "cell_type": "code",
      "metadata": {
        "id": "aBmnu9Ff93s-",
        "colab_type": "code",
        "outputId": "269c0367-ce00-48b5-8598-89fc32a06626",
        "colab": {
          "base_uri": "https://localhost:8080/",
          "height": 136
        }
      },
      "source": [
        "# Monthly\n",
        "# January\n",
        "Vegetables = dataset_df['commodity_type'] == 'VEGETABLES'\n",
        "Feb_Month = dataset_df['date'] == '2015-02-25'\n",
        "dataset_df[Vegetables & Feb_Month].groupby('commodity')['exportgoods_value_kes'].sum().sort_values(ascending=False).head()"
      ],
      "execution_count": 0,
      "outputs": [
        {
          "output_type": "execute_result",
          "data": {
            "text/plain": [
              "commodity\n",
              "MIXED VEGETABLES   725421738.00\n",
              "FINE BEANS         366244571.00\n",
              "HERBS               50857934.00\n",
              "SNOW/MANGETOUT      47406922.00\n",
              "BROCCOLI            34100101.00\n",
              "Name: exportgoods_value_kes, dtype: float64"
            ]
          },
          "metadata": {
            "tags": []
          },
          "execution_count": 151
        }
      ]
    },
    {
      "cell_type": "code",
      "metadata": {
        "id": "rW6ErLID93Q_",
        "colab_type": "code",
        "outputId": "5b10f39f-aac4-4ec9-9619-d19bc75bbdd0",
        "colab": {
          "base_uri": "https://localhost:8080/",
          "height": 136
        }
      },
      "source": [
        "# February\n",
        "\n",
        "Vegetables = dataset_df['commodity_type'] == 'VEGETABLES'\n",
        "Mar_Month = dataset_df['date'] == '2015-03-25'\n",
        "dataset_df[Vegetables & Mar_Month].groupby('commodity')['exportgoods_value_kes'].sum().sort_values(ascending=False).head()"
      ],
      "execution_count": 0,
      "outputs": [
        {
          "output_type": "execute_result",
          "data": {
            "text/plain": [
              "commodity\n",
              "MIXED VEGETABLES   717718712.00\n",
              "FINE BEANS         489059423.00\n",
              "SNOW/MANGETOUT      60853618.00\n",
              "BEAN PROCESSED      48746191.00\n",
              "SNAP PEAS           47781444.00\n",
              "Name: exportgoods_value_kes, dtype: float64"
            ]
          },
          "metadata": {
            "tags": []
          },
          "execution_count": 152
        }
      ]
    },
    {
      "cell_type": "code",
      "metadata": {
        "id": "hCjlwg-U93A0",
        "colab_type": "code",
        "outputId": "28f2ecaf-3a6e-4a93-85ad-35b554563435",
        "colab": {
          "base_uri": "https://localhost:8080/",
          "height": 136
        }
      },
      "source": [
        "# March\n",
        "Vegetables = dataset_df['commodity_type'] == 'VEGETABLES'\n",
        "Apr_Month = dataset_df['date'] == '2015-04-25'\n",
        "dataset_df[Vegetables & Apr_Month].groupby('commodity')['exportgoods_value_kes'].sum().sort_values(ascending=False).head()"
      ],
      "execution_count": 0,
      "outputs": [
        {
          "output_type": "execute_result",
          "data": {
            "text/plain": [
              "commodity\n",
              "MIXED VEGETABLES   633365327.00\n",
              "FINE BEANS         399694810.00\n",
              "BEAN PROCESSED      82253200.00\n",
              "SNOW/MANGETOUT      54629527.00\n",
              "BROCCOLI            39778693.00\n",
              "Name: exportgoods_value_kes, dtype: float64"
            ]
          },
          "metadata": {
            "tags": []
          },
          "execution_count": 153
        }
      ]
    },
    {
      "cell_type": "code",
      "metadata": {
        "id": "rhzdUGAa92u3",
        "colab_type": "code",
        "outputId": "ccf41148-6366-4a8f-b1a4-fc340c1f82f9",
        "colab": {
          "base_uri": "https://localhost:8080/",
          "height": 136
        }
      },
      "source": [
        "# May\n",
        "Vegetables = dataset_df['commodity_type'] == 'VEGETABLES'\n",
        "May_Month = dataset_df['date'] == '2015-05-25'\n",
        "dataset_df[Vegetables & May_Month].groupby('commodity')['exportgoods_value_kes'].sum().sort_values(ascending=False).head()"
      ],
      "execution_count": 0,
      "outputs": [
        {
          "output_type": "execute_result",
          "data": {
            "text/plain": [
              "commodity\n",
              "MIXED VEGETABLES   691939080.00\n",
              "FINE BEANS         521513082.00\n",
              "SNOW/MANGETOUT      62979827.00\n",
              "CHILLIES            34639231.00\n",
              "HERBS               29374972.00\n",
              "Name: exportgoods_value_kes, dtype: float64"
            ]
          },
          "metadata": {
            "tags": []
          },
          "execution_count": 154
        }
      ]
    },
    {
      "cell_type": "code",
      "metadata": {
        "id": "BCSI8Iqn92aK",
        "colab_type": "code",
        "outputId": "8cddb87d-e37b-45c8-a161-41e774e2ef3b",
        "colab": {
          "base_uri": "https://localhost:8080/",
          "height": 136
        }
      },
      "source": [
        "# June\n",
        "Vegetables = dataset_df['commodity_type'] == 'VEGETABLES'\n",
        "June_Month = dataset_df['date'] == '2015-06-25'\n",
        "dataset_df[Vegetables & June_Month].groupby('commodity')['exportgoods_value_kes'].sum().sort_values(ascending=False).head()"
      ],
      "execution_count": 0,
      "outputs": [
        {
          "output_type": "execute_result",
          "data": {
            "text/plain": [
              "commodity\n",
              "MIXED VEGETABLES   616169759.00\n",
              "FINE BEANS         381436864.00\n",
              "BEAN PROCESSED      95818989.00\n",
              "SNOW/MANGETOUT      72068896.00\n",
              "SNAP PEAS           42904783.00\n",
              "Name: exportgoods_value_kes, dtype: float64"
            ]
          },
          "metadata": {
            "tags": []
          },
          "execution_count": 155
        }
      ]
    },
    {
      "cell_type": "code",
      "metadata": {
        "id": "iKLYc40L92If",
        "colab_type": "code",
        "outputId": "4f563048-5ce4-4de0-92f4-27defd28c773",
        "colab": {
          "base_uri": "https://localhost:8080/",
          "height": 136
        }
      },
      "source": [
        "# July\n",
        "Vegetables = dataset_df['commodity_type'] == 'VEGETABLES'\n",
        "July_Month = dataset_df['date'] == '2015-07-25'\n",
        "dataset_df[Vegetables & July_Month].groupby('commodity')['exportgoods_value_kes'].sum().sort_values(ascending=False).head()"
      ],
      "execution_count": 0,
      "outputs": [
        {
          "output_type": "execute_result",
          "data": {
            "text/plain": [
              "commodity\n",
              "MIXED VEGETABLES   732211526.00\n",
              "FINE BEANS         323223502.00\n",
              "SNOW/MANGETOUT      68012328.00\n",
              "BEAN PROCESSED      45666630.00\n",
              "SNAP PEAS           37032150.00\n",
              "Name: exportgoods_value_kes, dtype: float64"
            ]
          },
          "metadata": {
            "tags": []
          },
          "execution_count": 156
        }
      ]
    },
    {
      "cell_type": "code",
      "metadata": {
        "id": "M0Tp7WeT91lt",
        "colab_type": "code",
        "outputId": "f2e385bc-9b05-4c43-f86f-dbece75f801d",
        "colab": {
          "base_uri": "https://localhost:8080/",
          "height": 136
        }
      },
      "source": [
        "# August\n",
        "Vegetables = dataset_df['commodity_type'] == 'VEGETABLES'\n",
        "Aug_Month = dataset_df['date'] == '2015-08-25'\n",
        "dataset_df[Vegetables & Aug_Month].groupby('commodity')['exportgoods_value_kes'].sum().sort_values(ascending=False).head()"
      ],
      "execution_count": 0,
      "outputs": [
        {
          "output_type": "execute_result",
          "data": {
            "text/plain": [
              "commodity\n",
              "FINE BEANS         858853157.00\n",
              "MIXED VEGETABLES   529819431.00\n",
              "SNOW/MANGETOUT      66318422.00\n",
              "BEAN PROCESSED      61076004.00\n",
              "HERBS               54688172.00\n",
              "Name: exportgoods_value_kes, dtype: float64"
            ]
          },
          "metadata": {
            "tags": []
          },
          "execution_count": 157
        }
      ]
    },
    {
      "cell_type": "code",
      "metadata": {
        "id": "i1gWLof891Ul",
        "colab_type": "code",
        "outputId": "5c39466b-45c4-4fb8-c87d-6207afdfae6f",
        "colab": {
          "base_uri": "https://localhost:8080/",
          "height": 136
        }
      },
      "source": [
        "# September\n",
        "Vegetables = dataset_df['commodity_type'] == 'VEGETABLES'\n",
        "Sept_Month = dataset_df['date'] == '2015-09-25'\n",
        "dataset_df[Vegetables & Sept_Month].groupby('commodity')['exportgoods_value_kes'].sum().sort_values(ascending=False).head()"
      ],
      "execution_count": 0,
      "outputs": [
        {
          "output_type": "execute_result",
          "data": {
            "text/plain": [
              "commodity\n",
              "FINE BEANS         1774714791.00\n",
              "MIXED VEGETABLES    735490544.00\n",
              "BEAN PROCESSED      210292071.00\n",
              "SNOW/MANGETOUT       80590040.00\n",
              "HERBS                49691349.00\n",
              "Name: exportgoods_value_kes, dtype: float64"
            ]
          },
          "metadata": {
            "tags": []
          },
          "execution_count": 158
        }
      ]
    },
    {
      "cell_type": "code",
      "metadata": {
        "id": "28f6eOWa90_v",
        "colab_type": "code",
        "outputId": "f71f8325-ff28-4ee4-a0ce-89648cefae88",
        "colab": {
          "base_uri": "https://localhost:8080/",
          "height": 136
        }
      },
      "source": [
        "# October\n",
        "Vegetables = dataset_df['commodity_type'] == 'VEGETABLES'\n",
        "Oct_Month = dataset_df['date'] == '2015-10-25'\n",
        "dataset_df[Vegetables & Oct_Month].groupby('commodity')['exportgoods_value_kes'].sum().sort_values(ascending=False).head()"
      ],
      "execution_count": 0,
      "outputs": [
        {
          "output_type": "execute_result",
          "data": {
            "text/plain": [
              "commodity\n",
              "MIXED VEGETABLES   1030132554.00\n",
              "FINE BEANS          493984409.00\n",
              "BEAN PROCESSED      393131453.00\n",
              "SNOW/MANGETOUT      148638393.00\n",
              "SNAP PEAS            62881540.00\n",
              "Name: exportgoods_value_kes, dtype: float64"
            ]
          },
          "metadata": {
            "tags": []
          },
          "execution_count": 159
        }
      ]
    },
    {
      "cell_type": "code",
      "metadata": {
        "id": "_3wEYVrp90gw",
        "colab_type": "code",
        "outputId": "d3034fac-21d4-42ad-b385-b44d3e07720a",
        "colab": {
          "base_uri": "https://localhost:8080/",
          "height": 136
        }
      },
      "source": [
        "# November\n",
        "Vegetables = dataset_df['commodity_type'] == 'VEGETABLES'\n",
        "Nov_Month = dataset_df['date'] == '2015-11-25'\n",
        "dataset_df[Vegetables & Nov_Month].groupby('commodity')['exportgoods_value_kes'].sum().sort_values(ascending=False).head()"
      ],
      "execution_count": 0,
      "outputs": [
        {
          "output_type": "execute_result",
          "data": {
            "text/plain": [
              "commodity\n",
              "MIXED VEGETABLES   962893852.00\n",
              "FINE BEANS         544090607.00\n",
              "BEAN PROCESSED     195231509.00\n",
              "SNOW/MANGETOUT     156387516.00\n",
              "HERBS               88636590.00\n",
              "Name: exportgoods_value_kes, dtype: float64"
            ]
          },
          "metadata": {
            "tags": []
          },
          "execution_count": 160
        }
      ]
    },
    {
      "cell_type": "code",
      "metadata": {
        "id": "0kxUhG6-9zyt",
        "colab_type": "code",
        "outputId": "2fafa4fe-498b-4a29-d91e-2a467acff01a",
        "colab": {
          "base_uri": "https://localhost:8080/",
          "height": 136
        }
      },
      "source": [
        "# December\n",
        "Vegetables = dataset_df['commodity_type'] == 'VEGETABLES'\n",
        "Dec_Month = dataset_df['date'] == '2015-12-25'\n",
        "dataset_df[Vegetables & Dec_Month].groupby('commodity')['exportgoods_value_kes'].sum().sort_values(ascending=False).head()"
      ],
      "execution_count": 0,
      "outputs": [
        {
          "output_type": "execute_result",
          "data": {
            "text/plain": [
              "commodity\n",
              "MIXED VEGETABLES   1018151186.00\n",
              "FINE BEANS          538567527.00\n",
              "BEAN PROCESSED      115660099.00\n",
              "SNOW/MANGETOUT      105835020.00\n",
              "HERBS                77814477.00\n",
              "Name: exportgoods_value_kes, dtype: float64"
            ]
          },
          "metadata": {
            "tags": []
          },
          "execution_count": 161
        }
      ]
    },
    {
      "cell_type": "markdown",
      "metadata": {
        "id": "nGMZKQF_ElEW",
        "colab_type": "text"
      },
      "source": [
        "#### 5.) Type of Fruits with Most Value - Overall"
      ]
    },
    {
      "cell_type": "code",
      "metadata": {
        "colab_type": "code",
        "outputId": "10890fe3-e34d-448a-9a28-155da0c52017",
        "id": "bNDRo6YlCZ9E",
        "colab": {
          "base_uri": "https://localhost:8080/",
          "height": 528
        }
      },
      "source": [
        "# Q5. Which type of Fruits had the most value? Monthly? Overall?\n",
        "# Overall\n",
        "fruit_plot = dataset_df[dataset_df.commodity_type == 'FRUITS'].groupby('commodity')['exportgoods_value_kes'].sum().sort_values(ascending=False).head()\n",
        "print(fruit_plot)\n",
        "\n",
        "fruit_plot.plot.bar()"
      ],
      "execution_count": 0,
      "outputs": [
        {
          "output_type": "stream",
          "text": [
            "commodity\n",
            "AVOCADO               4278199690.00\n",
            "MANGO                 1612449629.00\n",
            "MACADAMIA              296771819.00\n",
            "RASPBERRIES/BLISSES    238076738.00\n",
            "PASSION                111609294.00\n",
            "Name: exportgoods_value_kes, dtype: float64\n"
          ],
          "name": "stdout"
        },
        {
          "output_type": "execute_result",
          "data": {
            "text/plain": [
              "<matplotlib.axes._subplots.AxesSubplot at 0x7fbb089f78d0>"
            ]
          },
          "metadata": {
            "tags": []
          },
          "execution_count": 24
        },
        {
          "output_type": "display_data",
          "data": {
            "image/png": "[encoded data removed]",
            "text/plain": [
              "<Figure size 432x288 with 1 Axes>"
            ]
          },
          "metadata": {
            "tags": [],
            "needs_background": "light"
          }
        }
      ]
    },
    {
      "cell_type": "markdown",
      "metadata": {
        "id": "zhMoZ_FAEokP",
        "colab_type": "text"
      },
      "source": [
        "##### Type of Fruits with Most Value - Monthly"
      ]
    },
    {
      "cell_type": "code",
      "metadata": {
        "colab_type": "code",
        "outputId": "1b9a2a59-2fe2-4918-a5a8-e5d81abbd14b",
        "id": "7v2EEOLiCZ9H",
        "colab": {
          "base_uri": "https://localhost:8080/",
          "height": 136
        }
      },
      "source": [
        "# Monthly \n",
        "# January\n",
        "\n",
        "Fruits = dataset_df['commodity_type'] == 'FRUITS'\n",
        "Jan_Month = dataset_df['date'] == '2015-01-25'\n",
        "dataset_df[Fruits & Jan_Month].groupby('commodity')['exportgoods_value_kes'].sum().sort_values(ascending=False).head()"
      ],
      "execution_count": 0,
      "outputs": [
        {
          "output_type": "execute_result",
          "data": {
            "text/plain": [
              "commodity\n",
              "MANGO                 194731742.00\n",
              "RASPBERRIES/BLISSES   136922679.00\n",
              "AVOCADO               133700475.00\n",
              "PASSION                10440371.00\n",
              "LEMON                    491548.00\n",
              "Name: exportgoods_value_kes, dtype: float64"
            ]
          },
          "metadata": {
            "tags": []
          },
          "execution_count": 163
        }
      ]
    },
    {
      "cell_type": "code",
      "metadata": {
        "colab_type": "code",
        "outputId": "6eb64f75-271b-4aa5-c9ec-d7ee51736cdd",
        "id": "sxy42fvfCZ9K",
        "colab": {
          "base_uri": "https://localhost:8080/",
          "height": 136
        }
      },
      "source": [
        "# February\n",
        "\n",
        "Fruits = dataset_df['commodity_type'] == 'FRUITS'\n",
        "Feb_Month = dataset_df['date'] == '2015-02-25'\n",
        "dataset_df[Fruits & Feb_Month].groupby('commodity')['exportgoods_value_kes'].sum().sort_values(ascending=False).head()"
      ],
      "execution_count": 0,
      "outputs": [
        {
          "output_type": "execute_result",
          "data": {
            "text/plain": [
              "commodity\n",
              "MANGO                 183104589.00\n",
              "AVOCADO               138829619.00\n",
              "RASPBERRIES/BLISSES    46766980.00\n",
              "MACADAMIA              28341504.00\n",
              "PASSION                12363358.00\n",
              "Name: exportgoods_value_kes, dtype: float64"
            ]
          },
          "metadata": {
            "tags": []
          },
          "execution_count": 164
        }
      ]
    },
    {
      "cell_type": "code",
      "metadata": {
        "colab_type": "code",
        "outputId": "b489b89e-a505-43b7-e04f-a796c1f56a70",
        "id": "88FzhLETCZ9M",
        "colab": {
          "base_uri": "https://localhost:8080/",
          "height": 136
        }
      },
      "source": [
        "# March\n",
        "\n",
        "Fruits = dataset_df['commodity_type'] == 'FRUITS'\n",
        "March_Month = dataset_df['date'] == '2015-03-25'\n",
        "dataset_df[Fruits & March_Month].groupby('commodity')['exportgoods_value_kes'].sum().sort_values(ascending=False).head()"
      ],
      "execution_count": 0,
      "outputs": [
        {
          "output_type": "execute_result",
          "data": {
            "text/plain": [
              "commodity\n",
              "AVOCADO                    280710051.00\n",
              "MANGO                      103856783.00\n",
              "MACADAMIA                   93389231.00\n",
              "PASSION                     11322102.00\n",
              "CUSTARD APPLE / SOUR SOP     4824586.00\n",
              "Name: exportgoods_value_kes, dtype: float64"
            ]
          },
          "metadata": {
            "tags": []
          },
          "execution_count": 165
        }
      ]
    },
    {
      "cell_type": "code",
      "metadata": {
        "colab_type": "code",
        "outputId": "0fb56506-6970-4d42-c81f-2b9d2aef9fd0",
        "id": "G60JoNPvCZ9S",
        "colab": {
          "base_uri": "https://localhost:8080/",
          "height": 136
        }
      },
      "source": [
        "# April\n",
        "\n",
        "Fruits = dataset_df['commodity_type'] == 'FRUITS'\n",
        "Apr_Month = dataset_df['date'] == '2015-04-25'\n",
        "dataset_df[Fruits & Apr_Month].groupby('commodity')['exportgoods_value_kes'].sum().sort_values(ascending=False).head()"
      ],
      "execution_count": 0,
      "outputs": [
        {
          "output_type": "execute_result",
          "data": {
            "text/plain": [
              "commodity\n",
              "AVOCADO                    356620082.00\n",
              "MACADAMIA                  159286424.00\n",
              "MANGO                       14908278.00\n",
              "PASSION                      9300567.00\n",
              "CUSTARD APPLE / SOUR SOP     5645889.00\n",
              "Name: exportgoods_value_kes, dtype: float64"
            ]
          },
          "metadata": {
            "tags": []
          },
          "execution_count": 166
        }
      ]
    },
    {
      "cell_type": "code",
      "metadata": {
        "colab_type": "code",
        "outputId": "35304432-2ee1-4daa-c54a-58cba0ac640b",
        "id": "kPRkfS6_CZ9V",
        "colab": {
          "base_uri": "https://localhost:8080/",
          "height": 136
        }
      },
      "source": [
        "# May\n",
        "\n",
        "Fruits = dataset_df['commodity_type'] == 'FRUITS'\n",
        "May_Month = dataset_df['date'] == '2015-05-25'\n",
        "dataset_df[Fruits & May_Month].groupby('commodity')['exportgoods_value_kes'].sum().sort_values(ascending=False).head()"
      ],
      "execution_count": 0,
      "outputs": [
        {
          "output_type": "execute_result",
          "data": {
            "text/plain": [
              "commodity\n",
              "AVOCADO                    400999603.00\n",
              "MANGO                       16844344.00\n",
              "PASSION                      9684962.00\n",
              "RASPBERRIES/BLISSES          5533502.00\n",
              "CUSTARD APPLE / SOUR SOP     2226493.00\n",
              "Name: exportgoods_value_kes, dtype: float64"
            ]
          },
          "metadata": {
            "tags": []
          },
          "execution_count": 167
        }
      ]
    },
    {
      "cell_type": "code",
      "metadata": {
        "colab_type": "code",
        "outputId": "6d600fe6-2f69-450a-d0e3-4c8deb22dba1",
        "id": "MBEsDe1HCZ9X",
        "colab": {
          "base_uri": "https://localhost:8080/",
          "height": 68
        }
      },
      "source": [
        "# June\n",
        "\n",
        "Fruits = dataset_df['commodity_type'] == 'FRUITS'\n",
        "June_Month = dataset_df['date'] == '2015-06-25'\n",
        "dataset_df[Fruits & June_Month].groupby('commodity')['exportgoods_value_kes'].sum().sort_values(ascending=False).head(1)"
      ],
      "execution_count": 0,
      "outputs": [
        {
          "output_type": "execute_result",
          "data": {
            "text/plain": [
              "commodity\n",
              "AVOCADO   523204624.00\n",
              "Name: exportgoods_value_kes, dtype: float64"
            ]
          },
          "metadata": {
            "tags": []
          },
          "execution_count": 168
        }
      ]
    },
    {
      "cell_type": "code",
      "metadata": {
        "colab_type": "code",
        "outputId": "61f246fd-4d27-4826-df2b-9a8111a894e7",
        "id": "KD0e1scjCZ9b",
        "colab": {
          "base_uri": "https://localhost:8080/",
          "height": 68
        }
      },
      "source": [
        "# July\n",
        "\n",
        "Fruits = dataset_df['commodity_type'] == 'FRUITS'\n",
        "July_Month = dataset_df['date'] == '2015-07-25'\n",
        "dataset_df[Fruits & July_Month].groupby('commodity')['exportgoods_value_kes'].sum().sort_values(ascending=False).head(1)"
      ],
      "execution_count": 0,
      "outputs": [
        {
          "output_type": "execute_result",
          "data": {
            "text/plain": [
              "commodity\n",
              "AVOCADO   827501900.00\n",
              "Name: exportgoods_value_kes, dtype: float64"
            ]
          },
          "metadata": {
            "tags": []
          },
          "execution_count": 169
        }
      ]
    },
    {
      "cell_type": "code",
      "metadata": {
        "colab_type": "code",
        "outputId": "8c36bb35-17a3-486f-a438-3c47cb6360b1",
        "id": "TF4nKn6gCZ9f",
        "colab": {
          "base_uri": "https://localhost:8080/",
          "height": 68
        }
      },
      "source": [
        "# August\n",
        "\n",
        "Fruits = dataset_df['commodity_type'] == 'FRUITS'\n",
        "Aug_Month = dataset_df['date'] == '2015-08-25'\n",
        "dataset_df[Fruits & Aug_Month].groupby('commodity')['exportgoods_value_kes'].sum().sort_values(ascending=False).head(1)"
      ],
      "execution_count": 0,
      "outputs": [
        {
          "output_type": "execute_result",
          "data": {
            "text/plain": [
              "commodity\n",
              "AVOCADO   563660062.00\n",
              "Name: exportgoods_value_kes, dtype: float64"
            ]
          },
          "metadata": {
            "tags": []
          },
          "execution_count": 170
        }
      ]
    },
    {
      "cell_type": "code",
      "metadata": {
        "colab_type": "code",
        "outputId": "c5b4f4eb-2a29-4fc2-f8d4-84e5056df8ad",
        "id": "4zC4C5bzCZ9g",
        "colab": {
          "base_uri": "https://localhost:8080/",
          "height": 68
        }
      },
      "source": [
        "# September\n",
        "\n",
        "Fruits = dataset_df['commodity_type'] == 'FRUITS'\n",
        "Sept_Month = dataset_df['date'] == '2015-09-25'\n",
        "dataset_df[Fruits & Sept_Month].groupby('commodity')['exportgoods_value_kes'].sum().sort_values(ascending=False).head(1)"
      ],
      "execution_count": 0,
      "outputs": [
        {
          "output_type": "execute_result",
          "data": {
            "text/plain": [
              "commodity\n",
              "AVOCADO   515199820.00\n",
              "Name: exportgoods_value_kes, dtype: float64"
            ]
          },
          "metadata": {
            "tags": []
          },
          "execution_count": 171
        }
      ]
    },
    {
      "cell_type": "code",
      "metadata": {
        "colab_type": "code",
        "outputId": "e943edc1-efb9-4349-d87e-eb56e2230ce7",
        "id": "MyUG9nQDCZ9i",
        "colab": {
          "base_uri": "https://localhost:8080/",
          "height": 68
        }
      },
      "source": [
        "# October\n",
        "\n",
        "Fruits = dataset_df['commodity_type'] == 'FRUITS'\n",
        "Oct_Month = dataset_df['date'] == '2015-10-25'\n",
        "dataset_df[Fruits & Oct_Month].groupby('commodity')['exportgoods_value_kes'].sum().sort_values(ascending=False).head(1)"
      ],
      "execution_count": 0,
      "outputs": [
        {
          "output_type": "execute_result",
          "data": {
            "text/plain": [
              "commodity\n",
              "MANGO   238984572.00\n",
              "Name: exportgoods_value_kes, dtype: float64"
            ]
          },
          "metadata": {
            "tags": []
          },
          "execution_count": 172
        }
      ]
    },
    {
      "cell_type": "code",
      "metadata": {
        "colab_type": "code",
        "outputId": "41c86c09-0518-4c92-f433-e3ac7244aeba",
        "id": "HCVZlAfmCZ9k",
        "colab": {
          "base_uri": "https://localhost:8080/",
          "height": 68
        }
      },
      "source": [
        "# November\n",
        "\n",
        "Fruits = dataset_df['commodity_type'] == 'FRUITS'\n",
        "Nov_Month = dataset_df['date'] == '2015-11-25'\n",
        "dataset_df[Fruits & Nov_Month].groupby('commodity')['exportgoods_value_kes'].sum().sort_values(ascending=False).head(1)"
      ],
      "execution_count": 0,
      "outputs": [
        {
          "output_type": "execute_result",
          "data": {
            "text/plain": [
              "commodity\n",
              "MANGO   291241840.00\n",
              "Name: exportgoods_value_kes, dtype: float64"
            ]
          },
          "metadata": {
            "tags": []
          },
          "execution_count": 173
        }
      ]
    },
    {
      "cell_type": "code",
      "metadata": {
        "colab_type": "code",
        "outputId": "30df606a-77a3-40ea-ff9e-f77062b01dde",
        "id": "3fadEAzvCZ9n",
        "colab": {
          "base_uri": "https://localhost:8080/",
          "height": 68
        }
      },
      "source": [
        "# December\n",
        "\n",
        "Fruits = dataset_df['commodity_type'] == 'FRUITS'\n",
        "Dec_Month = dataset_df['date'] == '2015-12-25'\n",
        "dataset_df[Fruits & Dec_Month].groupby('commodity')['exportgoods_value_kes'].sum().sort_values(ascending=False).head(1)"
      ],
      "execution_count": 0,
      "outputs": [
        {
          "output_type": "execute_result",
          "data": {
            "text/plain": [
              "commodity\n",
              "MANGO   366061724.00\n",
              "Name: exportgoods_value_kes, dtype: float64"
            ]
          },
          "metadata": {
            "tags": []
          },
          "execution_count": 174
        }
      ]
    },
    {
      "cell_type": "markdown",
      "metadata": {
        "id": "zuylUD_iExpk",
        "colab_type": "text"
      },
      "source": [
        "#### 6.) Type of Vegetables with Highest Value per kg - Overall"
      ]
    },
    {
      "cell_type": "code",
      "metadata": {
        "colab_type": "code",
        "outputId": "62aa4731-3cb6-4107-dcf2-0b584f701e9f",
        "id": "4mczzD8NCZ9q",
        "colab": {
          "base_uri": "https://localhost:8080/",
          "height": 102
        }
      },
      "source": [
        "# Q6. Which commodity had the highest value per kg? Monthly? Overall?\n",
        "\n",
        "# Overall\n",
        "dataset_df.groupby(\"commodity_type\")[\"weight_kgs\"].sum().sort_values(ascending=False).head()\n"
      ],
      "execution_count": 0,
      "outputs": [
        {
          "output_type": "execute_result",
          "data": {
            "text/plain": [
              "commodity_type\n",
              "CUT-FLOWERS   122825252.02\n",
              "VEGETABLES     68942414.90\n",
              "FRUITS         46246349.62\n",
              "Name: weight_kgs, dtype: float64"
            ]
          },
          "metadata": {
            "tags": []
          },
          "execution_count": 175
        }
      ]
    },
    {
      "cell_type": "markdown",
      "metadata": {
        "id": "twBr_1xyE6aB",
        "colab_type": "text"
      },
      "source": [
        "##### Type of Vegetables with Highest Value per kg - Monthly"
      ]
    },
    {
      "cell_type": "code",
      "metadata": {
        "colab_type": "code",
        "outputId": "4b840439-bf05-4868-de63-6b4a3a5f8cb8",
        "id": "nv7gZZfACZ9r",
        "colab": {
          "base_uri": "https://localhost:8080/",
          "height": 102
        }
      },
      "source": [
        "# Monthly\n",
        "# January\n",
        "\n",
        "dataset_df[dataset_df.date == '2015-01-25'].groupby(\"commodity_type\")[\"weight_kgs\"].sum().sort_values(ascending=False).head()\n"
      ],
      "execution_count": 0,
      "outputs": [
        {
          "output_type": "execute_result",
          "data": {
            "text/plain": [
              "commodity_type\n",
              "CUT-FLOWERS   10345885.02\n",
              "VEGETABLES     5109741.04\n",
              "FRUITS         2714413.30\n",
              "Name: weight_kgs, dtype: float64"
            ]
          },
          "metadata": {
            "tags": []
          },
          "execution_count": 176
        }
      ]
    },
    {
      "cell_type": "code",
      "metadata": {
        "colab_type": "code",
        "outputId": "adc18405-d3e8-4b33-8398-c9a659341e65",
        "id": "C5vntuuZCZ9y",
        "colab": {
          "base_uri": "https://localhost:8080/",
          "height": 68
        }
      },
      "source": [
        "# February \n",
        "\n",
        "dataset_df[dataset_df.date == '2015-02-25'].groupby(\"commodity_type\")[\"weight_kgs\"].sum().sort_values(ascending=False).head(1)\n"
      ],
      "execution_count": 0,
      "outputs": [
        {
          "output_type": "execute_result",
          "data": {
            "text/plain": [
              "commodity_type\n",
              "CUT-FLOWERS   12650716.96\n",
              "Name: weight_kgs, dtype: float64"
            ]
          },
          "metadata": {
            "tags": []
          },
          "execution_count": 177
        }
      ]
    },
    {
      "cell_type": "code",
      "metadata": {
        "colab_type": "code",
        "outputId": "781a0bb1-71ae-4fff-c50d-f99dd845d5b9",
        "id": "T8yc_bZ7CZ90",
        "colab": {
          "base_uri": "https://localhost:8080/",
          "height": 68
        }
      },
      "source": [
        "# March \n",
        "\n",
        "dataset_df[dataset_df.date == '2015-03-25'].groupby(\"commodity_type\")[\"weight_kgs\"].sum().sort_values(ascending=False).head(1)\n"
      ],
      "execution_count": 0,
      "outputs": [
        {
          "output_type": "execute_result",
          "data": {
            "text/plain": [
              "commodity_type\n",
              "CUT-FLOWERS   11830679.09\n",
              "Name: weight_kgs, dtype: float64"
            ]
          },
          "metadata": {
            "tags": []
          },
          "execution_count": 178
        }
      ]
    },
    {
      "cell_type": "code",
      "metadata": {
        "colab_type": "code",
        "outputId": "958d0dd3-8f40-4ba2-e4d5-4c012e2bc94e",
        "id": "r0zBsIelCZ93",
        "colab": {
          "base_uri": "https://localhost:8080/",
          "height": 68
        }
      },
      "source": [
        "# April \n",
        "\n",
        "dataset_df[dataset_df.date == '2015-04-25'].groupby(\"commodity_type\")[\"weight_kgs\"].sum().sort_values(ascending=False).head(1)\n"
      ],
      "execution_count": 0,
      "outputs": [
        {
          "output_type": "execute_result",
          "data": {
            "text/plain": [
              "commodity_type\n",
              "CUT-FLOWERS   10873726.19\n",
              "Name: weight_kgs, dtype: float64"
            ]
          },
          "metadata": {
            "tags": []
          },
          "execution_count": 179
        }
      ]
    },
    {
      "cell_type": "code",
      "metadata": {
        "colab_type": "code",
        "outputId": "0a9b5ee8-f70e-4001-83ab-bf25b4facd06",
        "id": "C9CzkuToCZ94",
        "colab": {
          "base_uri": "https://localhost:8080/",
          "height": 68
        }
      },
      "source": [
        "# May\n",
        "\n",
        "dataset_df[dataset_df.date == '2015-05-25'].groupby(\"commodity_type\")[\"weight_kgs\"].sum().sort_values(ascending=False).head(1)\n"
      ],
      "execution_count": 0,
      "outputs": [
        {
          "output_type": "execute_result",
          "data": {
            "text/plain": [
              "commodity_type\n",
              "CUT-FLOWERS   10848124.97\n",
              "Name: weight_kgs, dtype: float64"
            ]
          },
          "metadata": {
            "tags": []
          },
          "execution_count": 180
        }
      ]
    },
    {
      "cell_type": "code",
      "metadata": {
        "colab_type": "code",
        "outputId": "30b1b7c0-583f-4154-94f6-796c109fedf1",
        "id": "rY2_Ck93CZ97",
        "colab": {
          "base_uri": "https://localhost:8080/",
          "height": 68
        }
      },
      "source": [
        "# June\n",
        "\n",
        "dataset_df[dataset_df.date == '2015-06-25'].groupby(\"commodity_type\")[\"weight_kgs\"].sum().sort_values(ascending=False).head(1)\n"
      ],
      "execution_count": 0,
      "outputs": [
        {
          "output_type": "execute_result",
          "data": {
            "text/plain": [
              "commodity_type\n",
              "CUT-FLOWERS   7648161.56\n",
              "Name: weight_kgs, dtype: float64"
            ]
          },
          "metadata": {
            "tags": []
          },
          "execution_count": 181
        }
      ]
    },
    {
      "cell_type": "code",
      "metadata": {
        "colab_type": "code",
        "outputId": "f7be0d89-aa0d-4183-8b22-7bf133bc3b04",
        "id": "QMYc8vFhCZ99",
        "colab": {
          "base_uri": "https://localhost:8080/",
          "height": 68
        }
      },
      "source": [
        "# July\n",
        "\n",
        "dataset_df[dataset_df.date == '2015-07-25'].groupby(\"commodity_type\")[\"weight_kgs\"].sum().sort_values(ascending=False).head(1)\n"
      ],
      "execution_count": 0,
      "outputs": [
        {
          "output_type": "execute_result",
          "data": {
            "text/plain": [
              "commodity_type\n",
              "CUT-FLOWERS   7957572.83\n",
              "Name: weight_kgs, dtype: float64"
            ]
          },
          "metadata": {
            "tags": []
          },
          "execution_count": 182
        }
      ]
    },
    {
      "cell_type": "code",
      "metadata": {
        "colab_type": "code",
        "outputId": "7f569275-58db-4319-8ae1-3d14f5058f78",
        "id": "p2jgu0p2CZ9-",
        "colab": {
          "base_uri": "https://localhost:8080/",
          "height": 68
        }
      },
      "source": [
        "# August\n",
        "\n",
        "dataset_df[dataset_df.date == '2015-08-25'].groupby(\"commodity_type\")[\"weight_kgs\"].sum().sort_values(ascending=False).head(1)\n"
      ],
      "execution_count": 0,
      "outputs": [
        {
          "output_type": "execute_result",
          "data": {
            "text/plain": [
              "commodity_type\n",
              "CUT-FLOWERS   8204576.18\n",
              "Name: weight_kgs, dtype: float64"
            ]
          },
          "metadata": {
            "tags": []
          },
          "execution_count": 183
        }
      ]
    },
    {
      "cell_type": "code",
      "metadata": {
        "colab_type": "code",
        "outputId": "75a34ea1-8ced-4f54-d419-db5d1866033c",
        "id": "5R969dkeCZ-C",
        "colab": {
          "base_uri": "https://localhost:8080/",
          "height": 68
        }
      },
      "source": [
        "# September\n",
        "\n",
        "dataset_df[dataset_df.date == '2015-09-25'].groupby(\"commodity_type\")[\"weight_kgs\"].sum().sort_values(ascending=False).head(1)\n"
      ],
      "execution_count": 0,
      "outputs": [
        {
          "output_type": "execute_result",
          "data": {
            "text/plain": [
              "commodity_type\n",
              "CUT-FLOWERS   10538092.72\n",
              "Name: weight_kgs, dtype: float64"
            ]
          },
          "metadata": {
            "tags": []
          },
          "execution_count": 184
        }
      ]
    },
    {
      "cell_type": "code",
      "metadata": {
        "colab_type": "code",
        "outputId": "0f8506b8-6a51-4437-e081-463d049f6dc5",
        "id": "GCHuVYntCZ-E",
        "colab": {
          "base_uri": "https://localhost:8080/",
          "height": 68
        }
      },
      "source": [
        "# October\n",
        "\n",
        "dataset_df[dataset_df.date == '2015-10-25'].groupby(\"commodity_type\")[\"weight_kgs\"].sum().sort_values(ascending=False).head(1)\n"
      ],
      "execution_count": 0,
      "outputs": [
        {
          "output_type": "execute_result",
          "data": {
            "text/plain": [
              "commodity_type\n",
              "CUT-FLOWERS   11377752.17\n",
              "Name: weight_kgs, dtype: float64"
            ]
          },
          "metadata": {
            "tags": []
          },
          "execution_count": 185
        }
      ]
    },
    {
      "cell_type": "code",
      "metadata": {
        "colab_type": "code",
        "outputId": "6fed5a4a-9bcd-4c24-f22a-d47834062420",
        "id": "J2nFYMv6CZ-H",
        "colab": {
          "base_uri": "https://localhost:8080/",
          "height": 68
        }
      },
      "source": [
        "# November\n",
        "\n",
        "dataset_df[dataset_df.date == '2015-11-25'].groupby(\"commodity_type\")[\"weight_kgs\"].sum().sort_values(ascending=False).head(1)\n"
      ],
      "execution_count": 0,
      "outputs": [
        {
          "output_type": "execute_result",
          "data": {
            "text/plain": [
              "commodity_type\n",
              "CUT-FLOWERS   10218621.27\n",
              "Name: weight_kgs, dtype: float64"
            ]
          },
          "metadata": {
            "tags": []
          },
          "execution_count": 186
        }
      ]
    },
    {
      "cell_type": "code",
      "metadata": {
        "colab_type": "code",
        "outputId": "809f4180-7065-443b-d680-dda0ddc753ee",
        "id": "pkCDQSBeCZ-J",
        "colab": {
          "base_uri": "https://localhost:8080/",
          "height": 68
        }
      },
      "source": [
        "# December\n",
        "\n",
        "dataset_df[dataset_df.date == '2015-12-25'].groupby(\"commodity_type\")[\"weight_kgs\"].sum().sort_values(ascending=False).head(1)\n"
      ],
      "execution_count": 0,
      "outputs": [
        {
          "output_type": "execute_result",
          "data": {
            "text/plain": [
              "commodity_type\n",
              "CUT-FLOWERS   10331343.06\n",
              "Name: weight_kgs, dtype: float64"
            ]
          },
          "metadata": {
            "tags": []
          },
          "execution_count": 187
        }
      ]
    },
    {
      "cell_type": "markdown",
      "metadata": {
        "id": "_P2RCPFqFOnO",
        "colab_type": "text"
      },
      "source": [
        "#### 7.) Months with the Highest Value of Goods Exported"
      ]
    },
    {
      "cell_type": "code",
      "metadata": {
        "colab_type": "code",
        "outputId": "56ebfaa0-234d-47d3-beb0-9858f274bf47",
        "id": "ypvtK7NhCZ-K",
        "colab": {
          "base_uri": "https://localhost:8080/",
          "height": 136
        }
      },
      "source": [
        "# Q7. Which month had the highest value of goods exported?\n",
        "dataset_df.groupby(\"date\")[\"exportgoods_value_kes\"].sum().sort_values(ascending=False).head()\n"
      ],
      "execution_count": 0,
      "outputs": [
        {
          "output_type": "execute_result",
          "data": {
            "text/plain": [
              "date\n",
              "2015-03-25   10510448618.00\n",
              "2015-10-25    9904463953.00\n",
              "2015-07-25    8550827167.00\n",
              "2015-09-25    8187323931.00\n",
              "2015-11-25    8094999879.00\n",
              "Name: exportgoods_value_kes, dtype: float64"
            ]
          },
          "metadata": {
            "tags": []
          },
          "execution_count": 188
        }
      ]
    },
    {
      "cell_type": "markdown",
      "metadata": {
        "id": "yFFiI8UEFabw",
        "colab_type": "text"
      },
      "source": [
        "#### 8.) Months with the Lowest Value of Goods Exported"
      ]
    },
    {
      "cell_type": "code",
      "metadata": {
        "colab_type": "code",
        "outputId": "af05aec9-b8b4-4ccb-f6d3-eb9e9272880d",
        "id": "xAYHSCGBCZ-L",
        "colab": {
          "base_uri": "https://localhost:8080/",
          "height": 136
        }
      },
      "source": [
        "# Q8. Which month had the lowest value of goods exported?\n",
        "dataset_df.groupby(\"date\")[\"exportgoods_value_kes\"].sum().sort_values(ascending=True).head()\n"
      ],
      "execution_count": 0,
      "outputs": [
        {
          "output_type": "execute_result",
          "data": {
            "text/plain": [
              "date\n",
              "2015-06-25   5139749839.00\n",
              "2015-08-25   5823804772.00\n",
              "2015-04-25   6223309199.00\n",
              "2015-05-25   6299715275.00\n",
              "2015-01-25   6412744223.00\n",
              "Name: exportgoods_value_kes, dtype: float64"
            ]
          },
          "metadata": {
            "tags": []
          },
          "execution_count": 189
        }
      ]
    },
    {
      "cell_type": "markdown",
      "metadata": {
        "id": "qQR_JD-AFlYG",
        "colab_type": "text"
      },
      "source": [
        "#### 9.) The Commodities that did not sell at all/ Have the least value"
      ]
    },
    {
      "cell_type": "code",
      "metadata": {
        "colab_type": "code",
        "outputId": "ed29212c-439e-438f-c804-4077af1d7d47",
        "id": "vtsHRT2CCZ-N",
        "colab": {
          "base_uri": "https://localhost:8080/",
          "height": 136
        }
      },
      "source": [
        "# Q9. Which commodity did not sell at all?\n",
        "dataset_df.groupby(\"commodity\")[\"exportgoods_value_kes\"].sum().sort_values(ascending=True).head()"
      ],
      "execution_count": 0,
      "outputs": [
        {
          "output_type": "execute_result",
          "data": {
            "text/plain": [
              "commodity\n",
              "CARTHAMUS          0.00\n",
              "CELERY            30.00\n",
              "CUCUMBER          50.00\n",
              "GERBERA          369.00\n",
              "SWEET POTATOES   464.00\n",
              "Name: exportgoods_value_kes, dtype: float64"
            ]
          },
          "metadata": {
            "tags": []
          },
          "execution_count": 190
        }
      ]
    },
    {
      "cell_type": "code",
      "metadata": {
        "colab_type": "code",
        "outputId": "e947e805-3a85-4201-db91-8f04f0ac6d8e",
        "id": "lV-J_tzBCZ-O",
        "colab": {
          "base_uri": "https://localhost:8080/",
          "height": 173
        }
      },
      "source": [
        "# alternative\n",
        "df = dataset_df\n",
        "a = df['exportgoods_value_kes'] == 0\n",
        "df[a]"
      ],
      "execution_count": 0,
      "outputs": [
        {
          "output_type": "execute_result",
          "data": {
            "text/html": [
              "<div>\n",
              "<style scoped>\n",
              "    .dataframe tbody tr th:only-of-type {\n",
              "        vertical-align: middle;\n",
              "    }\n",
              "\n",
              "    .dataframe tbody tr th {\n",
              "        vertical-align: top;\n",
              "    }\n",
              "\n",
              "    .dataframe thead th {\n",
              "        text-align: right;\n",
              "    }\n",
              "</style>\n",
              "<table border=\"1\" class=\"dataframe\">\n",
              "  <thead>\n",
              "    <tr style=\"text-align: right;\">\n",
              "      <th></th>\n",
              "      <th>commodity_type</th>\n",
              "      <th>commodity</th>\n",
              "      <th>weight_kgs</th>\n",
              "      <th>exportgoods_value_kes</th>\n",
              "      <th>date</th>\n",
              "    </tr>\n",
              "  </thead>\n",
              "  <tbody>\n",
              "    <tr>\n",
              "      <th>844</th>\n",
              "      <td>FRUITS</td>\n",
              "      <td>STRAWBERRY</td>\n",
              "      <td>2.00</td>\n",
              "      <td>0.00</td>\n",
              "      <td>2015-06-25</td>\n",
              "    </tr>\n",
              "    <tr>\n",
              "      <th>1106</th>\n",
              "      <td>CUT-FLOWERS</td>\n",
              "      <td>LISIANTHUS/EUSTOMA</td>\n",
              "      <td>37.91</td>\n",
              "      <td>0.00</td>\n",
              "      <td>2015-08-25</td>\n",
              "    </tr>\n",
              "    <tr>\n",
              "      <th>1379</th>\n",
              "      <td>CUT-FLOWERS</td>\n",
              "      <td>CARTHAMUS</td>\n",
              "      <td>175.29</td>\n",
              "      <td>0.00</td>\n",
              "      <td>2015-10-25</td>\n",
              "    </tr>\n",
              "    <tr>\n",
              "      <th>1678</th>\n",
              "      <td>CUT-FLOWERS</td>\n",
              "      <td>CARTHAMUS</td>\n",
              "      <td>9.04</td>\n",
              "      <td>0.00</td>\n",
              "      <td>2015-12-25</td>\n",
              "    </tr>\n",
              "  </tbody>\n",
              "</table>\n",
              "</div>"
            ],
            "text/plain": [
              "     commodity_type           commodity  ...  exportgoods_value_kes       date\n",
              "844          FRUITS          STRAWBERRY  ...                   0.00 2015-06-25\n",
              "1106    CUT-FLOWERS  LISIANTHUS/EUSTOMA  ...                   0.00 2015-08-25\n",
              "1379    CUT-FLOWERS           CARTHAMUS  ...                   0.00 2015-10-25\n",
              "1678    CUT-FLOWERS           CARTHAMUS  ...                   0.00 2015-12-25\n",
              "\n",
              "[4 rows x 5 columns]"
            ]
          },
          "metadata": {
            "tags": []
          },
          "execution_count": 191
        }
      ]
    },
    {
      "cell_type": "markdown",
      "metadata": {
        "id": "XC4y5G6xFwbE",
        "colab_type": "text"
      },
      "source": [
        "#### 10.) The Effect of special months on the value of exported commodities"
      ]
    },
    {
      "cell_type": "code",
      "metadata": {
        "colab_type": "code",
        "outputId": "eabaff12-03ed-4a6b-9b0a-ab5ef2944aee",
        "id": "ihqe9TusCZ-Q",
        "colab": {
          "base_uri": "https://localhost:8080/",
          "height": 290
        }
      },
      "source": [
        "# Q10. How did special months affect the value of goods exported for different types of commodities? (Special months like February and December)\n",
        "import seaborn as sns\n",
        "\n",
        "#df.boxplot(column =['exportgoods_value_kes'], by ='date', grid = False)\n",
        "#bplot = sns.boxplot(y='exportgoods_value_kes', x='date', data=df, width=10.5, palette=\"colorblind\")\n",
        "\n",
        "bplot = sns.stripplot(y='exportgoods_value_kes', x='date',  data=df, jitter=True, marker='o', alpha=0.5, color='black', size=7)"
      ],
      "execution_count": 0,
      "outputs": [
        {
          "output_type": "display_data",
          "data": {
            "image/png": "[encoded data removed]",
            "text/plain": [
              "<Figure size 432x288 with 1 Axes>"
            ]
          },
          "metadata": {
            "tags": [],
            "needs_background": "light"
          }
        }
      ]
    },
    {
      "cell_type": "code",
      "metadata": {
        "colab_type": "code",
        "outputId": "c01796c8-3652-4d06-cfff-28f171871c48",
        "id": "uKEQLHq-CZ-R",
        "colab": {
          "base_uri": "https://localhost:8080/",
          "height": 305
        }
      },
      "source": [
        "#Grouping the data into months by value of exports\n",
        "x = dataset_df.groupby(['date'])['exportgoods_value_kes'].sum()\n",
        "x\n",
        "# ploting a graph \n",
        "x.plot()"
      ],
      "execution_count": 0,
      "outputs": [
        {
          "output_type": "execute_result",
          "data": {
            "text/plain": [
              "<matplotlib.axes._subplots.AxesSubplot at 0x7ff79a51b320>"
            ]
          },
          "metadata": {
            "tags": []
          },
          "execution_count": 193
        },
        {
          "output_type": "display_data",
          "data": {
            "image/png": "[encoded data removed]",
            "text/plain": [
              "<Figure size 432x288 with 1 Axes>"
            ]
          },
          "metadata": {
            "tags": [],
            "needs_background": "light"
          }
        }
      ]
    },
    {
      "cell_type": "code",
      "metadata": {
        "colab_type": "code",
        "outputId": "f671d820-bbee-4b02-de7b-54850a48909d",
        "id": "eHG4Z4ZQCZ-S",
        "colab": {
          "base_uri": "https://localhost:8080/",
          "height": 305
        }
      },
      "source": [
        "#Grouping the data into months by value of exports\n",
        "y = dataset_df.groupby('date')['weight_kgs'].sum()\n",
        "y\n",
        "# ploting a graph\n",
        "y.plot()"
      ],
      "execution_count": 0,
      "outputs": [
        {
          "output_type": "execute_result",
          "data": {
            "text/plain": [
              "<matplotlib.axes._subplots.AxesSubplot at 0x7ff79a5000b8>"
            ]
          },
          "metadata": {
            "tags": []
          },
          "execution_count": 194
        },
        {
          "output_type": "display_data",
          "data": {
            "image/png": "[encoded data removed]",
            "text/plain": [
              "<Figure size 432x288 with 1 Axes>"
            ]
          },
          "metadata": {
            "tags": [],
            "needs_background": "light"
          }
        }
      ]
    },
    {
      "cell_type": "code",
      "metadata": {
        "colab_type": "code",
        "outputId": "37dca069-f4a1-4cfd-bd3e-967046870fa8",
        "id": "jNmeS9fMCZ-U",
        "colab": {
          "base_uri": "https://localhost:8080/",
          "height": 623
        }
      },
      "source": [
        "# graph for months vs exportgoods value\n",
        "df.plot(x = 'exportgoods_value_kes', y = 'date', figsize=(10,10))\n"
      ],
      "execution_count": 0,
      "outputs": [
        {
          "output_type": "execute_result",
          "data": {
            "text/plain": [
              "<matplotlib.axes._subplots.AxesSubplot at 0x7ff79a45f828>"
            ]
          },
          "metadata": {
            "tags": []
          },
          "execution_count": 195
        },
        {
          "output_type": "display_data",
          "data": {
            "image/png": "[encoded data removed]",
            "text/plain": [
              "<Figure size 720x720 with 1 Axes>"
            ]
          },
          "metadata": {
            "tags": [],
            "needs_background": "light"
          }
        }
      ]
    },
    {
      "cell_type": "code",
      "metadata": {
        "colab_type": "code",
        "outputId": "7743dd19-14b6-4e6e-8e07-f016b4fd939c",
        "id": "PU4X4xoXCZ-V",
        "colab": {
          "base_uri": "https://localhost:8080/",
          "height": 203
        }
      },
      "source": [
        "# a plot for all commodities\n",
        "sns.catplot(\n",
        "    data=df,\n",
        "    x='date',\n",
        "    y='exportgoods_value_kes',\n",
        "    kind='box',\n",
        "    height=6, \n",
        "    aspect=5,\n",
        "    color='blue')"
      ],
      "execution_count": 0,
      "outputs": [
        {
          "output_type": "execute_result",
          "data": {
            "text/plain": [
              "<seaborn.axisgrid.FacetGrid at 0x7ff79a43d898>"
            ]
          },
          "metadata": {
            "tags": []
          },
          "execution_count": 196
        },
        {
          "output_type": "display_data",
          "data": {
            "image/png": "[encoded data removed]",
            "text/plain": [
              "<Figure size 2160x432 with 1 Axes>"
            ]
          },
          "metadata": {
            "tags": [],
            "needs_background": "light"
          }
        }
      ]
    },
    {
      "cell_type": "markdown",
      "metadata": {
        "colab_type": "text",
        "id": "3vg4gcw5CZ-W"
      },
      "source": [
        "by looking at the plots we can see that some months had a significant spike in how much was sold that month.\n",
        "This months are as follows\n",
        "\n",
        "\n",
        "*   February\n",
        "*   March\n",
        "*   October\n",
        "*   January\n",
        "*   April\n",
        "*   May\n",
        "*   July\n",
        "*   September\n",
        "*   November\n",
        "*   December\n",
        "\n",
        "\n",
        "---\n",
        "\n",
        "\n",
        "It is important to note that October had the highest spike followed by March and February and November respectively.\n",
        "\n",
        "\n",
        "---\n",
        "\n",
        "\n",
        "The remaining months in our list seem to show that although there was a sudden spike it was not that big and revolve in the same range.\n",
        "\n",
        "Months like June, August did not show this sudden spike.\n",
        "\n",
        "\n",
        "\n",
        "\n",
        "\n",
        "\n"
      ]
    },
    {
      "cell_type": "code",
      "metadata": {
        "colab_type": "code",
        "outputId": "c4ca7289-7d61-4c08-bb7a-082e949fb3c0",
        "id": "WhywGeFBCZ-W",
        "colab": {
          "base_uri": "https://localhost:8080/",
          "height": 203
        }
      },
      "source": [
        "# plot for fruits alone \n",
        "flowers = df['commodity_type'] == 'FRUITS'\n",
        "df1 = df[flowers]\n",
        "df1\n",
        "sns.catplot(\n",
        "    data=df1,\n",
        "    x='date',\n",
        "    y='exportgoods_value_kes',\n",
        "    kind='box',\n",
        "    height=6, \n",
        "    aspect=5,\n",
        "    color='blue')"
      ],
      "execution_count": 0,
      "outputs": [
        {
          "output_type": "execute_result",
          "data": {
            "text/plain": [
              "<seaborn.axisgrid.FacetGrid at 0x7ff79a29abe0>"
            ]
          },
          "metadata": {
            "tags": []
          },
          "execution_count": 197
        },
        {
          "output_type": "display_data",
          "data": {
            "image/png": "[encoded data removed]",
            "text/plain": [
              "<Figure size 2160x432 with 1 Axes>"
            ]
          },
          "metadata": {
            "tags": [],
            "needs_background": "light"
          }
        }
      ]
    },
    {
      "cell_type": "markdown",
      "metadata": {
        "colab_type": "text",
        "id": "hxhPAme7CZ-Y"
      },
      "source": [
        "Considering just fruits we can see that December and January had significant sales and during the months of summer there were spikes in sales that is June, July and August."
      ]
    },
    {
      "cell_type": "code",
      "metadata": {
        "colab_type": "code",
        "outputId": "fefd063f-79bb-4475-c06f-ce30b150a321",
        "id": "CCAzSgXfCZ-Z",
        "colab": {
          "base_uri": "https://localhost:8080/",
          "height": 203
        }
      },
      "source": [
        "# plot for flowers alone\n",
        "flowers = df['commodity_type'] == 'CUT-FLOWERS'\n",
        "df1 = df[flowers]\n",
        "df1\n",
        "sns.catplot(\n",
        "    data=df1,\n",
        "    x='date',\n",
        "    y='exportgoods_value_kes',\n",
        "    kind='box',\n",
        "    height=6, \n",
        "    aspect=5,\n",
        "    color='blue')"
      ],
      "execution_count": 0,
      "outputs": [
        {
          "output_type": "execute_result",
          "data": {
            "text/plain": [
              "<seaborn.axisgrid.FacetGrid at 0x7ff79a2a8ef0>"
            ]
          },
          "metadata": {
            "tags": []
          },
          "execution_count": 198
        },
        {
          "output_type": "display_data",
          "data": {
            "image/png": "[encoded data removed]",
            "text/plain": [
              "<Figure size 2160x432 with 1 Axes>"
            ]
          },
          "metadata": {
            "tags": [],
            "needs_background": "light"
          }
        }
      ]
    },
    {
      "cell_type": "markdown",
      "metadata": {
        "colab_type": "text",
        "id": "eb7TQjisCZ-d"
      },
      "source": [
        "Flowers have a similar behaviour to that of all the commodities considered."
      ]
    },
    {
      "cell_type": "code",
      "metadata": {
        "colab_type": "code",
        "outputId": "7d417d57-e1fd-4032-c976-8137cde11c94",
        "id": "z1daChZ_CZ-d",
        "colab": {
          "base_uri": "https://localhost:8080/",
          "height": 203
        }
      },
      "source": [
        "# plot for vegetables\n",
        "flowers = df['commodity_type'] == 'VEGETABLES'\n",
        "df1 = df[flowers]\n",
        "df1\n",
        "sns.catplot(\n",
        "    data=df1,\n",
        "    x='date',\n",
        "    y='exportgoods_value_kes',\n",
        "    kind='box',\n",
        "    height=6, \n",
        "    aspect=5,\n",
        "    color='blue')"
      ],
      "execution_count": 0,
      "outputs": [
        {
          "output_type": "execute_result",
          "data": {
            "text/plain": [
              "<seaborn.axisgrid.FacetGrid at 0x7ff79a2a8128>"
            ]
          },
          "metadata": {
            "tags": []
          },
          "execution_count": 199
        },
        {
          "output_type": "display_data",
          "data": {
            "image/png": "[encoded data removed]",
            "text/plain": [
              "<Figure size 2160x432 with 1 Axes>"
            ]
          },
          "metadata": {
            "tags": [],
            "needs_background": "light"
          }
        }
      ]
    },
    {
      "cell_type": "markdown",
      "metadata": {
        "colab_type": "text",
        "id": "WDuCGbISCZ-e"
      },
      "source": [
        "Considering Vegetables we can see a spike on September. This spike can be attributed by healthy eating after all the summer food. \n",
        "\n",
        "\n",
        "---\n",
        "It is important to note that the other months have spikes but not that great. This could tell us that vegetables have this cycle where it maintains its spike thus telling us that vegetable sales dont flactuate much.\n",
        "\n"
      ]
    }
  ]
}